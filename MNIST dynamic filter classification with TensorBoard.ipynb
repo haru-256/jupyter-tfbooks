{
 "cells": [
  {
   "cell_type": "markdown",
   "metadata": {},
   "source": [
    "# TensorFlow"
   ]
  },
  {
   "cell_type": "markdown",
   "metadata": {},
   "source": [
    "**[MDT-01]** 必要なモジュールをインポートして、乱数のシードを設定します。"
   ]
  },
  {
   "cell_type": "code",
   "execution_count": 1,
   "metadata": {},
   "outputs": [
    {
     "name": "stderr",
     "output_type": "stream",
     "text": [
      "/Users/yohei/.pyenv/versions/anaconda3-5.0.0/envs/tensorflow/lib/python3.5/site-packages/h5py/__init__.py:36: FutureWarning: Conversion of the second argument of issubdtype from `float` to `np.floating` is deprecated. In future, it will be treated as `np.float64 == np.dtype(float).type`.\n",
      "  from ._conv import register_converters as _register_converters\n"
     ]
    }
   ],
   "source": [
    "import tensorflow as tf\n",
    "import numpy as np\n",
    "import matplotlib.pyplot as plt\n",
    "from tensorflow.examples.tutorials.mnist import input_data\n",
    "\n",
    "np.random.seed(20160703)\n",
    "tf.set_random_seed(20160703)"
   ]
  },
  {
   "cell_type": "markdown",
   "metadata": {},
   "source": [
    "**[MDT-02]** MNISTのデータセットを用意します。"
   ]
  },
  {
   "cell_type": "code",
   "execution_count": 2,
   "metadata": {},
   "outputs": [
    {
     "name": "stdout",
     "output_type": "stream",
     "text": [
      "Extracting /tmp/data/train-images-idx3-ubyte.gz\n",
      "Extracting /tmp/data/train-labels-idx1-ubyte.gz\n",
      "Extracting /tmp/data/t10k-images-idx3-ubyte.gz\n",
      "Extracting /tmp/data/t10k-labels-idx1-ubyte.gz\n"
     ]
    }
   ],
   "source": [
    "mnist = input_data.read_data_sets(\"/tmp/data/\", one_hot=True)"
   ]
  },
  {
   "cell_type": "markdown",
   "metadata": {},
   "source": [
    "**[MDT-03]** 畳込みフィルターが1層のCNNを表現するクラスを定義します。"
   ]
  },
  {
   "cell_type": "code",
   "execution_count": 6,
   "metadata": {},
   "outputs": [],
   "source": [
    "class SingleCNN:\n",
    "    def __init__(self, num_filters, num_units):\n",
    "        # tf.Graph().as_default()のコンテキストマネージャーにより異なるグラフを(with構文内では)default Graphとして扱うことができる．\n",
    "        # また複数のグラフを作成することができる．\n",
    "        with tf.Graph().as_default():\n",
    "            self.prepare_model(num_filters, num_units)\n",
    "            self.prepare_session()\n",
    "\n",
    "    def prepare_model(self, num_filters, num_units):\n",
    "        num_units1 = 14*14*num_filters\n",
    "        num_units2 = num_units\n",
    "        \n",
    "        with tf.name_scope('input'):\n",
    "            x = tf.placeholder(tf.float32, [None, 784], name='input')\n",
    "            x_image = tf.reshape(x, [-1,28,28,1])\n",
    "\n",
    "        with tf.name_scope('convolution'):\n",
    "            W_conv = tf.Variable(\n",
    "                tf.truncated_normal([5,5,1,num_filters], stddev=0.1),\n",
    "                name='conv-filter')\n",
    "            h_conv = tf.nn.conv2d(\n",
    "                x_image, W_conv, strides=[1,1,1,1], padding='SAME',\n",
    "                name='filter-output')\n",
    "\n",
    "        with tf.name_scope('pooling'):            \n",
    "            h_pool =tf.nn.max_pool(h_conv, ksize=[1,2,2,1],\n",
    "                                   strides=[1,2,2,1], padding='SAME',\n",
    "                                   name='max-pool')\n",
    "            h_pool_flat = tf.reshape(h_pool, [-1, 14*14*num_filters],\n",
    "                                     name='pool-output')\n",
    "\n",
    "        with tf.name_scope('fully-connected'):\n",
    "            w2 = tf.Variable(tf.truncated_normal([num_units1, num_units2]))\n",
    "            b2 = tf.Variable(tf.zeros([num_units2]))\n",
    "            hidden2 = tf.nn.relu(tf.matmul(h_pool_flat, w2) + b2,\n",
    "                                 name='fc-output')\n",
    "\n",
    "        with tf.name_scope('softmax'):\n",
    "            w0 = tf.Variable(tf.zeros([num_units2, 10]))\n",
    "            b0 = tf.Variable(tf.zeros([10]))\n",
    "            p = tf.nn.softmax(tf.matmul(hidden2, w0) + b0,\n",
    "                              name='softmax-output')\n",
    "            \n",
    "        with tf.name_scope('optimizer'):\n",
    "            t = tf.placeholder(tf.float32, [None, 10], name='labels')\n",
    "            loss = -tf.reduce_sum(t * tf.log(p), name='loss')\n",
    "            train_step = tf.train.AdamOptimizer(0.0005).minimize(loss)\n",
    "            \n",
    "        with tf.name_scope('evaluator'):\n",
    "            correct_prediction = tf.equal(tf.argmax(p, 1), tf.argmax(t, 1))\n",
    "            accuracy = tf.reduce_mean(tf.cast(correct_prediction,\n",
    "                                              tf.float32), name='accuracy')\n",
    "            \n",
    "        # 監視したいTensorを追加\n",
    "        tf.summary.scalar(\"loss\", loss)\n",
    "        tf.summary.scalar(\"accuracy\", accuracy)\n",
    "        tf.summary.histogram(\"convolution_filters\", W_conv)\n",
    "        \n",
    "        # 外から使うであろう変数をインスタンス変数として登録．\n",
    "        self.x, self.t, self.p = x, t, p\n",
    "        self.train_step = train_step\n",
    "        self.loss = loss\n",
    "        self.accuracy = accuracy\n",
    "        \n",
    "    def prepare_session(self):\n",
    "        sess = tf.Session()  # graph引数に指定がない場合，default_graphが指定される\n",
    "        sess.run(tf.global_variables_initializer())\n",
    "        summary = tf.summary.merge_all()  # summary を全てマージする． 登録した変数を1まとめにする．\n",
    "        # FileWriterクラスを作成， どこに記述するかのインスタンスを生成\n",
    "        writer = tf.summary.FileWriter(\"/tmp/mnist_df_logs\", graph=sess.graph)  # graph引数でどのgraphを書き出すのかを指定．  \n",
    "        \n",
    "        self.sess = sess\n",
    "        self.summary = summary\n",
    "        self.writer = writer"
   ]
  },
  {
   "cell_type": "markdown",
   "metadata": {},
   "source": [
    "**[MDT-04]** TensorBoard用のデータ出力ディレクトリーを削除して初期化しておきます。"
   ]
  },
  {
   "cell_type": "code",
   "execution_count": 7,
   "metadata": {},
   "outputs": [],
   "source": [
    "!rm -rf /tmp/mnist_df_logs"
   ]
  },
  {
   "cell_type": "markdown",
   "metadata": {},
   "source": [
    "**[MDT-05]** パラメーターの最適化を4000回繰り返します。テストセットに対して約98%の正解率が得られます。"
   ]
  },
  {
   "cell_type": "code",
   "execution_count": 8,
   "metadata": {},
   "outputs": [
    {
     "name": "stdout",
     "output_type": "stream",
     "text": [
      "Step: 50, Loss: 2899.623047, Accuracy: 0.915400\n",
      "Step: 100, Loss: 2314.003906, Accuracy: 0.932500\n",
      "Step: 150, Loss: 1901.670410, Accuracy: 0.946400\n",
      "Step: 200, Loss: 2054.363525, Accuracy: 0.935400\n",
      "Step: 250, Loss: 1480.421143, Accuracy: 0.954800\n",
      "Step: 300, Loss: 1418.499023, Accuracy: 0.956100\n",
      "Step: 350, Loss: 1334.980713, Accuracy: 0.958200\n",
      "Step: 400, Loss: 1244.540283, Accuracy: 0.961600\n",
      "Step: 450, Loss: 1109.972534, Accuracy: 0.965000\n",
      "Step: 500, Loss: 1126.324951, Accuracy: 0.965700\n",
      "Step: 550, Loss: 1109.605957, Accuracy: 0.966200\n",
      "Step: 600, Loss: 1049.442017, Accuracy: 0.966700\n",
      "Step: 650, Loss: 927.259644, Accuracy: 0.971200\n",
      "Step: 700, Loss: 945.089539, Accuracy: 0.972300\n",
      "Step: 750, Loss: 961.402710, Accuracy: 0.968600\n",
      "Step: 800, Loss: 867.125061, Accuracy: 0.972200\n",
      "Step: 850, Loss: 839.944946, Accuracy: 0.974900\n",
      "Step: 900, Loss: 866.591675, Accuracy: 0.972400\n",
      "Step: 950, Loss: 809.067505, Accuracy: 0.975900\n",
      "Step: 1000, Loss: 824.606628, Accuracy: 0.975300\n",
      "Step: 1050, Loss: 947.164062, Accuracy: 0.970900\n",
      "Step: 1100, Loss: 871.291504, Accuracy: 0.973000\n",
      "Step: 1150, Loss: 795.847839, Accuracy: 0.975800\n",
      "Step: 1200, Loss: 829.379150, Accuracy: 0.975400\n",
      "Step: 1250, Loss: 692.357727, Accuracy: 0.978800\n",
      "Step: 1300, Loss: 879.644165, Accuracy: 0.975900\n",
      "Step: 1350, Loss: 908.794067, Accuracy: 0.971500\n",
      "Step: 1400, Loss: 776.920166, Accuracy: 0.976600\n",
      "Step: 1450, Loss: 885.500732, Accuracy: 0.971400\n",
      "Step: 1500, Loss: 767.673584, Accuracy: 0.976700\n",
      "Step: 1550, Loss: 710.829773, Accuracy: 0.977500\n",
      "Step: 1600, Loss: 704.902710, Accuracy: 0.978700\n",
      "Step: 1650, Loss: 715.268188, Accuracy: 0.979000\n",
      "Step: 1700, Loss: 656.303650, Accuracy: 0.979400\n",
      "Step: 1750, Loss: 702.136780, Accuracy: 0.979400\n",
      "Step: 1800, Loss: 682.683899, Accuracy: 0.977900\n",
      "Step: 1850, Loss: 610.955566, Accuracy: 0.981900\n",
      "Step: 1900, Loss: 677.829956, Accuracy: 0.978600\n",
      "Step: 1950, Loss: 671.943909, Accuracy: 0.979200\n",
      "Step: 2000, Loss: 709.948975, Accuracy: 0.977800\n",
      "Step: 2050, Loss: 660.258667, Accuracy: 0.979600\n",
      "Step: 2100, Loss: 732.395203, Accuracy: 0.978100\n",
      "Step: 2150, Loss: 722.071472, Accuracy: 0.977400\n",
      "Step: 2200, Loss: 617.918213, Accuracy: 0.980500\n",
      "Step: 2250, Loss: 593.414795, Accuracy: 0.981800\n",
      "Step: 2300, Loss: 669.701965, Accuracy: 0.981600\n",
      "Step: 2350, Loss: 620.376953, Accuracy: 0.981700\n",
      "Step: 2400, Loss: 598.169250, Accuracy: 0.983600\n",
      "Step: 2450, Loss: 610.645752, Accuracy: 0.980900\n",
      "Step: 2500, Loss: 642.018311, Accuracy: 0.980100\n",
      "Step: 2550, Loss: 643.730469, Accuracy: 0.981300\n",
      "Step: 2600, Loss: 676.364380, Accuracy: 0.980500\n",
      "Step: 2650, Loss: 660.998108, Accuracy: 0.979900\n",
      "Step: 2700, Loss: 640.635803, Accuracy: 0.980700\n",
      "Step: 2750, Loss: 595.690674, Accuracy: 0.982300\n",
      "Step: 2800, Loss: 608.864502, Accuracy: 0.982800\n",
      "Step: 2850, Loss: 647.312622, Accuracy: 0.980400\n",
      "Step: 2900, Loss: 654.470215, Accuracy: 0.979900\n",
      "Step: 2950, Loss: 664.435547, Accuracy: 0.980100\n",
      "Step: 3000, Loss: 654.461426, Accuracy: 0.981400\n",
      "Step: 3050, Loss: 594.808350, Accuracy: 0.982800\n",
      "Step: 3100, Loss: 690.102173, Accuracy: 0.980200\n",
      "Step: 3150, Loss: 623.257935, Accuracy: 0.981600\n",
      "Step: 3200, Loss: 612.129639, Accuracy: 0.982400\n",
      "Step: 3250, Loss: 596.796875, Accuracy: 0.983100\n",
      "Step: 3300, Loss: 588.941833, Accuracy: 0.982600\n",
      "Step: 3350, Loss: 664.512573, Accuracy: 0.981200\n",
      "Step: 3400, Loss: 622.335938, Accuracy: 0.981800\n",
      "Step: 3450, Loss: 594.375366, Accuracy: 0.983000\n",
      "Step: 3500, Loss: 582.937012, Accuracy: 0.983400\n",
      "Step: 3550, Loss: 646.975769, Accuracy: 0.982100\n",
      "Step: 3600, Loss: 738.791504, Accuracy: 0.979500\n",
      "Step: 3650, Loss: 723.613708, Accuracy: 0.980000\n",
      "Step: 3700, Loss: 772.504761, Accuracy: 0.979400\n",
      "Step: 3750, Loss: 747.544556, Accuracy: 0.979700\n",
      "Step: 3800, Loss: 795.762939, Accuracy: 0.978400\n",
      "Step: 3850, Loss: 713.975342, Accuracy: 0.980000\n",
      "Step: 3900, Loss: 726.552185, Accuracy: 0.980200\n",
      "Step: 3950, Loss: 836.099487, Accuracy: 0.977400\n",
      "Step: 4000, Loss: 727.821838, Accuracy: 0.980400\n"
     ]
    }
   ],
   "source": [
    "cnn = SingleCNN(16, 1024)\n",
    "\n",
    "i = 0\n",
    "for _ in range(4000):\n",
    "    i += 1\n",
    "    batch_xs, batch_ts = mnist.train.next_batch(100)\n",
    "    cnn.sess.run(cnn.train_step, feed_dict={cnn.x:batch_xs, cnn.t:batch_ts})\n",
    "    if i % 50 == 0:\n",
    "        summary, loss_val, acc_val = cnn.sess.run(\n",
    "            [cnn.summary, cnn.loss, cnn.accuracy],\n",
    "            feed_dict={cnn.x:mnist.test.images, cnn.t:mnist.test.labels}) # テストデータの結果(loss, accuracy, convolution_filters)をサマリーに記述\n",
    "        print ('Step: %d, Loss: %f, Accuracy: %f'\n",
    "               % (i, loss_val, acc_val))\n",
    "        # FileWriterインスタンス(writer)に書き出すことで TensorBoadに値を記録する． 二個目の引数は最適化処理の実施回数を与えている．\n",
    "        # global_step : Number. Optional global step value to record with the summary.\n",
    "        cnn.writer.add_summary(summary, i)"
   ]
  },
  {
   "cell_type": "code",
   "execution_count": null,
   "metadata": {},
   "outputs": [],
   "source": []
  },
  {
   "cell_type": "markdown",
   "metadata": {},
   "source": [
    "# Keras"
   ]
  },
  {
   "cell_type": "code",
   "execution_count": 1,
   "metadata": {},
   "outputs": [
    {
     "name": "stderr",
     "output_type": "stream",
     "text": [
      "/Users/yohei/.pyenv/versions/anaconda3-5.0.0/envs/tensorflow/lib/python3.5/site-packages/h5py/__init__.py:36: FutureWarning: Conversion of the second argument of issubdtype from `float` to `np.floating` is deprecated. In future, it will be treated as `np.float64 == np.dtype(float).type`.\n",
      "  from ._conv import register_converters as _register_converters\n",
      "Using TensorFlow backend.\n"
     ]
    }
   ],
   "source": [
    "from keras.models import Sequential\n",
    "from keras.layers.core import Activation, Lambda, Dense, Flatten\n",
    "from keras.layers.convolutional import Conv2D\n",
    "from keras.layers.pooling import MaxPooling2D\n",
    "from keras.optimizers import Adam\n",
    "from keras.models import Model\n",
    "from keras import backend as K\n",
    "from keras.callbacks import TensorBoard, EarlyStopping\n",
    "from keras.initializers import TruncatedNormal, Zeros"
   ]
  },
  {
   "cell_type": "code",
   "execution_count": 4,
   "metadata": {},
   "outputs": [],
   "source": [
    "np.random.seed(20160703)"
   ]
  },
  {
   "cell_type": "code",
   "execution_count": 5,
   "metadata": {},
   "outputs": [],
   "source": [
    "model = Sequential()"
   ]
  },
  {
   "cell_type": "code",
   "execution_count": 6,
   "metadata": {},
   "outputs": [
    {
     "name": "stdout",
     "output_type": "stream",
     "text": [
      "_________________________________________________________________\n",
      "Layer (type)                 Output Shape              Param #   \n",
      "=================================================================\n",
      "convolution (Conv2D)         (None, 28, 28, 16)        400       \n",
      "_________________________________________________________________\n",
      "max_pooling2d_1 (MaxPooling2 (None, 14, 14, 16)        0         \n",
      "_________________________________________________________________\n",
      "flatten_1 (Flatten)          (None, 3136)              0         \n",
      "_________________________________________________________________\n",
      "fully-connected (Dense)      (None, 1024)              3212288   \n",
      "_________________________________________________________________\n",
      "softmax (Dense)              (None, 10)                10250     \n",
      "=================================================================\n",
      "Total params: 3,222,938\n",
      "Trainable params: 3,222,938\n",
      "Non-trainable params: 0\n",
      "_________________________________________________________________\n"
     ]
    }
   ],
   "source": [
    "num_filters, num_units =16, 1024\n",
    "num_units1 = 14*14*num_filters\n",
    "num_units2 = num_units\n",
    "\n",
    "with K.name_scope('CNN'):\n",
    "    model.add(Conv2D(filters=num_filters, kernel_size=5,\n",
    "                     padding=\"same\",\n",
    "                     data_format=\"channels_last\",\n",
    "                     use_bias=False,\n",
    "                     input_shape=(28, 28, 1),\n",
    "                    kernel_initializer=TruncatedNormal(stddev=0.1),\n",
    "                    name='convolution'\n",
    "                    ))\n",
    "\n",
    "    with K.name_scope('pooling'): # TensorFlowのname_scopeが使える． 色々とTensorFlowと変換性がある\n",
    "        model.add(MaxPooling2D(pool_size=(2, 2),\n",
    "                           padding=\"same\", \n",
    "                           data_format=\"channels_last\"))\n",
    "        model.add(Flatten())  #  入力を平滑化する．バッチサイズに影響されない．\n",
    "\n",
    "    model.add(Dense(units=num_units2, activation='relu', name='fully-connected'))\n",
    "    model.add(Dense(units=10, activation='softmax', name='softmax'))\n",
    "\n",
    "model.summary()"
   ]
  },
  {
   "cell_type": "code",
   "execution_count": 9,
   "metadata": {},
   "outputs": [],
   "source": [
    "!rm -rf /tmp/mnist_df_logs"
   ]
  },
  {
   "cell_type": "code",
   "execution_count": 10,
   "metadata": {},
   "outputs": [],
   "source": [
    "tensorboad = TensorBoard(log_dir='/tmp/mnist_df_logs', histogram_freq=1)  # histogram_freq=50で 50 epochごとに記録することになる\n",
    "earlystopping = EarlyStopping(monitor='val_loss',  patience=5, verbose=1)"
   ]
  },
  {
   "cell_type": "code",
   "execution_count": 11,
   "metadata": {},
   "outputs": [],
   "source": [
    "model.compile(loss='categorical_crossentropy',\n",
    "             optimizer=Adam(lr=0.0005),\n",
    "             metrics=['accuracy'])"
   ]
  },
  {
   "cell_type": "code",
   "execution_count": 12,
   "metadata": {},
   "outputs": [
    {
     "data": {
      "text/plain": [
       "((55000, 784), (55000, 10))"
      ]
     },
     "execution_count": 12,
     "metadata": {},
     "output_type": "execute_result"
    }
   ],
   "source": [
    "x_train, t_train = mnist.train.images,mnist.train.labels\n",
    "x_train.shape, t_train.shape"
   ]
  },
  {
   "cell_type": "code",
   "execution_count": 13,
   "metadata": {},
   "outputs": [
    {
     "data": {
      "text/plain": [
       "((10000, 784), (10000, 10))"
      ]
     },
     "execution_count": 13,
     "metadata": {},
     "output_type": "execute_result"
    }
   ],
   "source": [
    "x_test, t_test = mnist.test.images,mnist.test.labels\n",
    "x_test.shape, t_test.shape"
   ]
  },
  {
   "cell_type": "code",
   "execution_count": 14,
   "metadata": {},
   "outputs": [
    {
     "name": "stdout",
     "output_type": "stream",
     "text": [
      "Train on 55000 samples, validate on 10000 samples\n",
      "Epoch 1/10\n",
      "55000/55000 [==============================] - 114s 2ms/step - loss: 0.2113 - acc: 0.9391 - val_loss: 0.0960 - val_acc: 0.9706\n",
      "Epoch 2/10\n",
      "55000/55000 [==============================] - 113s 2ms/step - loss: 0.0674 - acc: 0.9798 - val_loss: 0.0610 - val_acc: 0.9812\n",
      "Epoch 3/10\n",
      "55000/55000 [==============================] - 114s 2ms/step - loss: 0.0386 - acc: 0.9879 - val_loss: 0.0574 - val_acc: 0.9807\n",
      "Epoch 4/10\n",
      "55000/55000 [==============================] - 115s 2ms/step - loss: 0.0260 - acc: 0.9918 - val_loss: 0.0514 - val_acc: 0.9845\n",
      "Epoch 5/10\n",
      "55000/55000 [==============================] - 114s 2ms/step - loss: 0.0163 - acc: 0.9952 - val_loss: 0.0495 - val_acc: 0.9840\n",
      "Epoch 6/10\n",
      "55000/55000 [==============================] - 115s 2ms/step - loss: 0.0110 - acc: 0.9968 - val_loss: 0.0475 - val_acc: 0.9866\n",
      "Epoch 7/10\n",
      "55000/55000 [==============================] - 116s 2ms/step - loss: 0.0087 - acc: 0.9975 - val_loss: 0.0691 - val_acc: 0.9802\n",
      "Epoch 8/10\n",
      "55000/55000 [==============================] - 115s 2ms/step - loss: 0.0088 - acc: 0.9972 - val_loss: 0.0679 - val_acc: 0.9813\n",
      "Epoch 9/10\n",
      "55000/55000 [==============================] - 115s 2ms/step - loss: 0.0079 - acc: 0.9975 - val_loss: 0.0490 - val_acc: 0.9871\n",
      "Epoch 10/10\n",
      "55000/55000 [==============================] - 117s 2ms/step - loss: 0.0046 - acc: 0.9987 - val_loss: 0.0536 - val_acc: 0.9851\n"
     ]
    }
   ],
   "source": [
    "# 学習\n",
    "x_train = x_train.reshape([-1,28,28,1])\n",
    "x_test = x_test.reshape([-1,28,28,1])\n",
    "\n",
    "hist = model.fit(x_train, t_train, batch_size=100,\n",
    "                         epochs=10,\n",
    "                         validation_data=(x_test, t_test),\n",
    "                         callbacks=[tensorboad, earlystopping])"
   ]
  },
  {
   "cell_type": "code",
   "execution_count": 15,
   "metadata": {},
   "outputs": [
    {
     "data": {
      "text/plain": [
       "<tf.Tensor 'convolution_input:0' shape=(?, 28, 28, 1) dtype=float32>"
      ]
     },
     "execution_count": 15,
     "metadata": {},
     "output_type": "execute_result"
    }
   ],
   "source": [
    "model.input"
   ]
  },
  {
   "cell_type": "code",
   "execution_count": 16,
   "metadata": {},
   "outputs": [
    {
     "data": {
      "text/plain": [
       "<tf.Tensor 'softmax/Softmax:0' shape=(?, 10) dtype=float32>"
      ]
     },
     "execution_count": 16,
     "metadata": {},
     "output_type": "execute_result"
    }
   ],
   "source": [
    "model.output"
   ]
  },
  {
   "cell_type": "markdown",
   "metadata": {},
   "source": [
    "以上のように裏ではTensorが動いている"
   ]
  },
  {
   "cell_type": "code",
   "execution_count": null,
   "metadata": {},
   "outputs": [],
   "source": []
  },
  {
   "cell_type": "code",
   "execution_count": 18,
   "metadata": {},
   "outputs": [
    {
     "data": {
      "text/plain": [
       "[<keras.layers.convolutional.Conv2D at 0x1a27a1eef0>,\n",
       " <keras.layers.pooling.MaxPooling2D at 0x1a27a1c4e0>,\n",
       " <keras.layers.core.Flatten at 0x1a27a1c400>,\n",
       " <keras.layers.core.Dense at 0x1a27a1ee80>,\n",
       " <keras.layers.core.Dense at 0x1a27a1eeb8>]"
      ]
     },
     "execution_count": 18,
     "metadata": {},
     "output_type": "execute_result"
    }
   ],
   "source": [
    "model.layers"
   ]
  },
  {
   "cell_type": "code",
   "execution_count": null,
   "metadata": {},
   "outputs": [],
   "source": []
  }
 ],
 "metadata": {
  "kernelspec": {
   "display_name": "tensorflow",
   "language": "python",
   "name": "tensorflow"
  },
  "language_info": {
   "codemirror_mode": {
    "name": "ipython",
    "version": 3
   },
   "file_extension": ".py",
   "mimetype": "text/x-python",
   "name": "python",
   "nbconvert_exporter": "python",
   "pygments_lexer": "ipython3",
   "version": "3.5.4"
  },
  "toc": {
   "nav_menu": {},
   "number_sections": true,
   "sideBar": true,
   "skip_h1_title": false,
   "toc_cell": false,
   "toc_position": {},
   "toc_section_display": "block",
   "toc_window_display": false
  }
 },
 "nbformat": 4,
 "nbformat_minor": 1
}
