{
 "cells": [
  {
   "cell_type": "markdown",
   "metadata": {},
   "source": [
    "# TensorFlow"
   ]
  },
  {
   "cell_type": "markdown",
   "metadata": {},
   "source": [
    "**[CNN-01]** 必要なモジュールをインポートして、乱数のシードを設定します。"
   ]
  },
  {
   "cell_type": "code",
   "execution_count": 1,
   "metadata": {},
   "outputs": [
    {
     "name": "stderr",
     "output_type": "stream",
     "text": [
      "/Users/yohei/.pyenv/versions/anaconda3-5.0.0/envs/tensorflow/lib/python3.5/site-packages/h5py/__init__.py:36: FutureWarning: Conversion of the second argument of issubdtype from `float` to `np.floating` is deprecated. In future, it will be treated as `np.float64 == np.dtype(float).type`.\n",
      "  from ._conv import register_converters as _register_converters\n"
     ]
    }
   ],
   "source": [
    "import tensorflow as tf\n",
    "import numpy as np\n",
    "import matplotlib.pyplot as plt\n",
    "from tensorflow.examples.tutorials.mnist import input_data\n",
    "\n",
    "np.random.seed(20160704)\n",
    "tf.set_random_seed(20160704)"
   ]
  },
  {
   "cell_type": "markdown",
   "metadata": {},
   "source": [
    "**[CNN-02]** MNISTのデータセットを用意します。"
   ]
  },
  {
   "cell_type": "code",
   "execution_count": 2,
   "metadata": {},
   "outputs": [
    {
     "name": "stdout",
     "output_type": "stream",
     "text": [
      "Extracting /tmp/data/train-images-idx3-ubyte.gz\n",
      "Extracting /tmp/data/train-labels-idx1-ubyte.gz\n",
      "Extracting /tmp/data/t10k-images-idx3-ubyte.gz\n",
      "Extracting /tmp/data/t10k-labels-idx1-ubyte.gz\n"
     ]
    }
   ],
   "source": [
    "mnist = input_data.read_data_sets(\"/tmp/data/\", one_hot=True)"
   ]
  },
  {
   "cell_type": "markdown",
   "metadata": {},
   "source": [
    "**[CNN-03]** 1段目の畳み込みフィルターとプーリング層を定義します。"
   ]
  },
  {
   "cell_type": "code",
   "execution_count": 3,
   "metadata": {},
   "outputs": [],
   "source": [
    "num_filters1 = 32\n",
    "\n",
    "x = tf.placeholder(tf.float32, [None, 784])\n",
    "x_image = tf.reshape(x, [-1,28,28,1])  # NHWC\n",
    "\n",
    "# He の初期値の利用\n",
    "he_init = tf.contrib.layers.variance_scaling_initializer(\n",
    "            mode='FAN_IN',\n",
    "            uniform=False,\n",
    "            seed=None,\n",
    "            dtype=tf.float32\n",
    "        )\n",
    "\n",
    "W_conv1 = tf.Variable(he_init([5,5,1,num_filters1]))  # FH,FW,C,FN\n",
    "# 畳み込み\n",
    "h_conv1 = tf.nn.conv2d(x_image, W_conv1,\n",
    "                       strides=[1,1,1,1], padding='SAME')\n",
    "b_conv1 = tf.Variable(tf.constant(0.1, shape=[num_filters1]))  # FNのshape  0.1の定数で初期化\n",
    "\n",
    "# ReLUを適用\n",
    "h_conv1_cutoff = tf.nn.relu(h_conv1 + b_conv1)  # h_conv1 + b_conv1 : ブロードキャストを適用\n",
    "\n",
    "h_pool1 = tf.nn.max_pool(h_conv1_cutoff, ksize=[1,2,2,1],\n",
    "                         strides=[1,2,2,1], padding='SAME')"
   ]
  },
  {
   "cell_type": "markdown",
   "metadata": {},
   "source": [
    "**[CNN-04]** 2段目の畳み込みフィルターとプーリング層を定義します。"
   ]
  },
  {
   "cell_type": "code",
   "execution_count": 4,
   "metadata": {},
   "outputs": [],
   "source": [
    "num_filters2 = 64\n",
    "\n",
    "W_conv2 = tf.Variable(he_init([5,5,num_filters1,num_filters2]))\n",
    "# 畳み込み\n",
    "h_conv2 = tf.nn.conv2d(h_pool1, W_conv2,\n",
    "                       strides=[1,1,1,1], padding='SAME')\n",
    "\n",
    "b_conv2 = tf.Variable(tf.constant(0.1, shape=[num_filters2]))\n",
    "# ReLUを適用\n",
    "h_conv2_cutoff = tf.nn.relu(h_conv2 + b_conv2)\n",
    "\n",
    "h_pool2 = tf.nn.max_pool(h_conv2_cutoff, ksize=[1,2,2,1],\n",
    "                         strides=[1,2,2,1], padding='SAME')"
   ]
  },
  {
   "cell_type": "markdown",
   "metadata": {},
   "source": [
    "**[CNN-05]** 全結合層、ドロップアウト層、ソフトマックス関数を定義します。"
   ]
  },
  {
   "cell_type": "code",
   "execution_count": 5,
   "metadata": {},
   "outputs": [],
   "source": [
    "# 全結合層に渡すためにflatにする\n",
    "h_pool2_flat = tf.reshape(h_pool2, [-1, 7*7*num_filters2])\n",
    "\n",
    "num_units1 = 7*7*num_filters2\n",
    "num_units2 = 1024\n",
    "\n",
    "# 全結合\n",
    "w2 = tf.Variable(he_init([num_units1, num_units2]))\n",
    "b2 = tf.Variable(tf.constant(0.1, shape=[num_units2]))\n",
    "# ReLUを適用\n",
    "hidden2 = tf.nn.relu(tf.matmul(h_pool2_flat, w2) + b2)\n",
    "\n",
    "# ドロップアウト層  keep_probは訓練中とテスト中で値を変えるのでplaceholderにする\n",
    "keep_prob = tf.placeholder(tf.float32)\n",
    "hidden2_drop = tf.nn.dropout(hidden2, keep_prob=keep_prob)  # keep_probはドロップアウトしない確率を意味する\n",
    "\n",
    "w0 = tf.Variable(tf.zeros([num_units2, 10]))\n",
    "b0 = tf.Variable(tf.zeros([10]))\n",
    "logits = tf.matmul(hidden2_drop, w0) + b0\n",
    "p = tf.nn.softmax(logits)"
   ]
  },
  {
   "cell_type": "markdown",
   "metadata": {},
   "source": [
    "**[CNN-06]** 誤差関数 loss、トレーニングアルゴリズム train_step、正解率 accuracy を定義します。"
   ]
  },
  {
   "cell_type": "code",
   "execution_count": 6,
   "metadata": {},
   "outputs": [],
   "source": [
    "t = tf.placeholder(tf.float32, [None, 10])\n",
    "loss = -tf.reduce_mean(tf.reduce_sum(t * tf.log(p), axis=1))\n",
    "\"\"\"\n",
    "上の式と同様\n",
    "loss =  tf.nn.softmax_cross_entropy_with_logits(logits=logits,\n",
    "                                                                                     labels=t)\n",
    "one_hot出ない場合はこちら\n",
    "labels = tf.argmax(t, axis=1)\n",
    "loss = tf.nn.sparse_softmax_cross_entropy_with_logits(logits=logits,\n",
    "                                                                                                    labels=labels)\n",
    "\"\"\"\n",
    "train_step = tf.train.AdamOptimizer(0.0001).minimize(loss)\n",
    "correct_prediction = tf.equal(tf.argmax(p, 1), tf.argmax(t, 1))\n",
    "accuracy = tf.reduce_mean(tf.cast(correct_prediction, tf.float32))"
   ]
  },
  {
   "cell_type": "markdown",
   "metadata": {},
   "source": [
    "**[CNN-07]** セッションを用意して、Variable を初期化します。"
   ]
  },
  {
   "cell_type": "code",
   "execution_count": 7,
   "metadata": {},
   "outputs": [
    {
     "name": "stdout",
     "output_type": "stream",
     "text": [
      "WARNING:tensorflow:From /Users/yohei/.pyenv/versions/anaconda3-5.0.0/envs/tensorflow/lib/python3.5/site-packages/tensorflow/python/util/tf_should_use.py:107: initialize_all_variables (from tensorflow.python.ops.variables) is deprecated and will be removed after 2017-03-02.\n",
      "Instructions for updating:\n",
      "Use `tf.global_variables_initializer` instead.\n"
     ]
    }
   ],
   "source": [
    "sess = tf.Session()\n",
    "sess.run(tf.initialize_all_variables())\n",
    "saver = tf.train.Saver()"
   ]
  },
  {
   "cell_type": "markdown",
   "metadata": {},
   "source": [
    "**[CNN-08]** パラメーターの最適化を20000回繰り返します。\n",
    "\n",
    "最終的に、テストセットに対して約99%の正解率が得られます。"
   ]
  },
  {
   "cell_type": "code",
   "execution_count": 10,
   "metadata": {},
   "outputs": [
    {
     "name": "stdout",
     "output_type": "stream",
     "text": [
      "Step: 500, Loss: 1065.137451, Accuracy: 0.968700\n",
      "Step: 1000, Loss: 773.044617, Accuracy: 0.974100\n",
      "Step: 1500, Loss: 602.194519, Accuracy: 0.981000\n",
      "Step: 2000, Loss: 522.263672, Accuracy: 0.983000\n",
      "Step: 2500, Loss: 434.533264, Accuracy: 0.985600\n",
      "Step: 3000, Loss: 405.385529, Accuracy: 0.985700\n",
      "Step: 3500, Loss: 384.260925, Accuracy: 0.986700\n",
      "Step: 4000, Loss: 341.971405, Accuracy: 0.988400\n",
      "Step: 4500, Loss: 306.159027, Accuracy: 0.989700\n",
      "Step: 5000, Loss: 349.742798, Accuracy: 0.988200\n",
      "Step: 5500, Loss: 282.624084, Accuracy: 0.990900\n",
      "Step: 6000, Loss: 265.764435, Accuracy: 0.990600\n",
      "Step: 6500, Loss: 263.285767, Accuracy: 0.990800\n",
      "Step: 7000, Loss: 264.778595, Accuracy: 0.990200\n",
      "Step: 7500, Loss: 302.817505, Accuracy: 0.990100\n",
      "Step: 8000, Loss: 252.953705, Accuracy: 0.991000\n",
      "Step: 8500, Loss: 238.789688, Accuracy: 0.991200\n",
      "Step: 9000, Loss: 283.603302, Accuracy: 0.991000\n",
      "Step: 9500, Loss: 232.585037, Accuracy: 0.991600\n",
      "Step: 10000, Loss: 234.978195, Accuracy: 0.991300\n",
      "Step: 10500, Loss: 217.755859, Accuracy: 0.992300\n",
      "Step: 11000, Loss: 224.551743, Accuracy: 0.992900\n",
      "Step: 11500, Loss: 215.987701, Accuracy: 0.992600\n",
      "Step: 12000, Loss: 229.853439, Accuracy: 0.991900\n",
      "Step: 12500, Loss: 251.216232, Accuracy: 0.992000\n",
      "Step: 13000, Loss: 231.407425, Accuracy: 0.992300\n",
      "Step: 13500, Loss: 207.553177, Accuracy: 0.992800\n",
      "Step: 14000, Loss: 225.074326, Accuracy: 0.992900\n",
      "Step: 14500, Loss: 229.487167, Accuracy: 0.991200\n",
      "Step: 15000, Loss: 261.770447, Accuracy: 0.991100\n",
      "Step: 15500, Loss: 238.179871, Accuracy: 0.992200\n",
      "Step: 16000, Loss: 259.825745, Accuracy: 0.992100\n",
      "Step: 16500, Loss: 295.327271, Accuracy: 0.990900\n",
      "Step: 17000, Loss: 211.663422, Accuracy: 0.992600\n",
      "Step: 17500, Loss: 210.231094, Accuracy: 0.993000\n",
      "Step: 18000, Loss: 210.216568, Accuracy: 0.992800\n",
      "Step: 18500, Loss: 246.748413, Accuracy: 0.992500\n",
      "Step: 19000, Loss: 219.632874, Accuracy: 0.992600\n",
      "Step: 19500, Loss: 219.827820, Accuracy: 0.993300\n",
      "Step: 20000, Loss: 241.631851, Accuracy: 0.992500\n"
     ]
    }
   ],
   "source": [
    "i = 0\n",
    "for _ in range(20000):\n",
    "    i += 1\n",
    "    batch_xs, batch_ts = mnist.train.next_batch(50)\n",
    "    sess.run(train_step,\n",
    "             feed_dict={x:batch_xs, t:batch_ts, keep_prob:0.5})   # 学習にはkeep_prob:0.5を設定\n",
    "    if i % 500 == 0:\n",
    "        loss_vals, acc_vals = [], []\n",
    "        for c in range(4):\n",
    "            start = len(mnist.test.labels) / 4 * c\n",
    "            end = len(mnist.test.labels) / 4 * (c+1)\n",
    "            start, end = int(start), int(end)\n",
    "            loss_val, acc_val = sess.run([loss, accuracy],\n",
    "                feed_dict={x:mnist.test.images[start:end],\n",
    "                           t:mnist.test.labels[start:end],\n",
    "                           keep_prob:1.0})  # テスト時にはkeep_prob:1.0を設定\n",
    "            loss_vals.append(loss_val)\n",
    "            acc_vals.append(acc_val)\n",
    "        loss_val = np.sum(loss_vals)\n",
    "        acc_val = np.mean(acc_vals)\n",
    "        print ('Step: %d, Loss: %f, Accuracy: %f'\n",
    "               % (i, loss_val, acc_val))\n",
    "        saver.save(sess, 'tensorflow_session/cnn_session', global_step=i)"
   ]
  },
  {
   "cell_type": "code",
   "execution_count": 9,
   "metadata": {},
   "outputs": [
    {
     "data": {
      "text/plain": [
       "0.0"
      ]
     },
     "execution_count": 9,
     "metadata": {},
     "output_type": "execute_result"
    }
   ],
   "source": [
    "start"
   ]
  },
  {
   "cell_type": "markdown",
   "metadata": {},
   "source": [
    "**[CNN-09]** セッション情報を保存したファイルが生成されていることを確認します。"
   ]
  },
  {
   "cell_type": "code",
   "execution_count": 12,
   "metadata": {},
   "outputs": [
    {
     "name": "stdout",
     "output_type": "stream",
     "text": [
      "tensorflow_session/cnn_session-18000.data-00000-of-00001\r\n",
      "tensorflow_session/cnn_session-18000.index\r\n",
      "tensorflow_session/cnn_session-18000.meta\r\n",
      "tensorflow_session/cnn_session-18500.data-00000-of-00001\r\n",
      "tensorflow_session/cnn_session-18500.index\r\n",
      "tensorflow_session/cnn_session-18500.meta\r\n",
      "tensorflow_session/cnn_session-19000.data-00000-of-00001\r\n",
      "tensorflow_session/cnn_session-19000.index\r\n",
      "tensorflow_session/cnn_session-19000.meta\r\n",
      "tensorflow_session/cnn_session-19500.data-00000-of-00001\r\n",
      "tensorflow_session/cnn_session-19500.index\r\n",
      "tensorflow_session/cnn_session-19500.meta\r\n",
      "tensorflow_session/cnn_session-20000.data-00000-of-00001\r\n",
      "tensorflow_session/cnn_session-20000.index\r\n",
      "tensorflow_session/cnn_session-20000.meta\r\n"
     ]
    }
   ],
   "source": [
    "!ls tensorflow_session/cnn_session*"
   ]
  },
  {
   "cell_type": "code",
   "execution_count": 13,
   "metadata": {},
   "outputs": [],
   "source": [
    "sess.close()"
   ]
  },
  {
   "cell_type": "code",
   "execution_count": null,
   "metadata": {},
   "outputs": [],
   "source": []
  },
  {
   "cell_type": "code",
   "execution_count": null,
   "metadata": {},
   "outputs": [],
   "source": []
  },
  {
   "cell_type": "markdown",
   "metadata": {},
   "source": [
    "# Keras"
   ]
  },
  {
   "cell_type": "code",
   "execution_count": 18,
   "metadata": {},
   "outputs": [],
   "source": [
    "from keras.models import Sequential\n",
    "from keras.layers.core import Dense, Flatten, Dropout\n",
    "from keras.layers.convolutional import Conv2D\n",
    "from keras.layers.pooling import MaxPooling2D\n",
    "from keras.optimizers import Adam\n",
    "from keras.models import Model\n",
    "from keras import backend as K\n",
    "from keras.callbacks import TensorBoard, EarlyStopping, ModelCheckpoint\n",
    "from keras.initializers import he_normal, Constant"
   ]
  },
  {
   "cell_type": "code",
   "execution_count": 32,
   "metadata": {},
   "outputs": [],
   "source": [
    "np.random.seed(20160703)"
   ]
  },
  {
   "cell_type": "code",
   "execution_count": 35,
   "metadata": {},
   "outputs": [],
   "source": [
    "model = Sequential()"
   ]
  },
  {
   "cell_type": "code",
   "execution_count": 36,
   "metadata": {},
   "outputs": [
    {
     "name": "stdout",
     "output_type": "stream",
     "text": [
      "_________________________________________________________________\n",
      "Layer (type)                 Output Shape              Param #   \n",
      "=================================================================\n",
      "convolution1 (Conv2D)        (None, 28, 28, 32)        832       \n",
      "_________________________________________________________________\n",
      "pool1 (MaxPooling2D)         (None, 14, 14, 32)        0         \n",
      "_________________________________________________________________\n",
      "convolution2 (Conv2D)        (None, 14, 14, 64)        51264     \n",
      "_________________________________________________________________\n",
      "pool2 (MaxPooling2D)         (None, 7, 7, 64)          0         \n",
      "_________________________________________________________________\n",
      "flatten_2 (Flatten)          (None, 3136)              0         \n",
      "_________________________________________________________________\n",
      "fully-connected (Dense)      (None, 1024)              3212288   \n",
      "_________________________________________________________________\n",
      "dropout_1 (Dropout)          (None, 1024)              0         \n",
      "_________________________________________________________________\n",
      "softmax (Dense)              (None, 10)                10250     \n",
      "=================================================================\n",
      "Total params: 3,274,634\n",
      "Trainable params: 3,274,634\n",
      "Non-trainable params: 0\n",
      "_________________________________________________________________\n"
     ]
    }
   ],
   "source": [
    "num_filters1, num_filters2 = 32, 64, \n",
    "num_units1, num_units2 = 7*7*num_filters2, 1024\n",
    "\n",
    "with K.name_scope('CNN'):\n",
    "    \n",
    "    # 畳み込み1\n",
    "    model.add(Conv2D(filters=num_filters1, kernel_size=5,\n",
    "                     padding=\"same\",\n",
    "                     data_format=\"channels_last\",\n",
    "                     input_shape=(28, 28, 1),  # 第一層に使うときのみinput_shape引数が必要になる\n",
    "                    kernel_initializer=he_normal(),\n",
    "                     bias_initializer=Constant(value=0.1),\n",
    "                    name='convolution1',\n",
    "                     use_bias=True\n",
    "                    ))\n",
    "    with K.name_scope('pooling1'): # TensorFlowのname_scopeが使える． 色々とTensorFlowと変換性がある\n",
    "        model.add(MaxPooling2D(pool_size=(2, 2),\n",
    "                           padding=\"same\", \n",
    "                           data_format=\"channels_last\",\n",
    "                            name='pool1'))\n",
    "        \n",
    "    # 畳み込み2\n",
    "    model.add(Conv2D(filters=num_filters2, kernel_size=5,\n",
    "                     padding=\"same\",\n",
    "                     data_format=\"channels_last\",\n",
    "                    kernel_initializer=he_normal(),\n",
    "                      bias_initializer=Constant(value=0.1),\n",
    "                    name='convolution2',\n",
    "                     use_bias=True\n",
    "                    ))\n",
    "    with K.name_scope('pooling2'): # TensorFlowのname_scopeが使える． 色々とTensorFlowと変換性がある\n",
    "        model.add(MaxPooling2D(pool_size=(2, 2),\n",
    "                           padding=\"same\", \n",
    "                           data_format=\"channels_last\",\n",
    "                            name='pool2'))\n",
    "        \n",
    "        model.add(Flatten())  #  入力を平滑化する．バッチサイズに影響されない．\n",
    "\n",
    "    model.add(Dense(units=num_units2, activation='relu', name='fully-connected'))\n",
    "    model.add(Dropout(rate=0.5))  # TFと違い，rate引数にはドロップアウトする確率を渡す．\n",
    "    model.add(Dense(units=10, activation='softmax', name='softmax'))\n",
    "\n",
    "model.summary()"
   ]
  },
  {
   "cell_type": "code",
   "execution_count": 38,
   "metadata": {},
   "outputs": [],
   "source": [
    "tensorboad = TensorBoard(log_dir='/tmp/mnist_df_logs', histogram_freq=1)  # histogram_freq=50で 50 epochごとに記録することになる\n",
    "earlystopping = EarlyStopping(monitor='val_loss',  patience=5, verbose=1)\n",
    "\n",
    "# ModelCheckpointでエポックごとにセッションを保存 : 詳しくは「詳解ディープラーニング  p300~」\n",
    "checkpoint = ModelCheckpoint(\n",
    "                            filepath='keras_session/model_{epoch:02d}_vloss{val_loss:.3f}.hdf5',\n",
    "                            save_best_only=True)  #  save_best_only=True　だと そのとき最もよかった結果を上書きしないで済む?"
   ]
  },
  {
   "cell_type": "code",
   "execution_count": 39,
   "metadata": {},
   "outputs": [],
   "source": [
    "model.compile(loss='categorical_crossentropy',\n",
    "             optimizer=Adam(lr=0.0005),\n",
    "             metrics=['accuracy'])"
   ]
  },
  {
   "cell_type": "code",
   "execution_count": 40,
   "metadata": {},
   "outputs": [
    {
     "data": {
      "text/plain": [
       "((55000, 784), (55000, 10))"
      ]
     },
     "execution_count": 40,
     "metadata": {},
     "output_type": "execute_result"
    }
   ],
   "source": [
    "x_train, t_train = mnist.train.images,mnist.train.labels\n",
    "x_train.shape, t_train.shape"
   ]
  },
  {
   "cell_type": "code",
   "execution_count": 41,
   "metadata": {},
   "outputs": [
    {
     "data": {
      "text/plain": [
       "((10000, 784), (10000, 10))"
      ]
     },
     "execution_count": 41,
     "metadata": {},
     "output_type": "execute_result"
    }
   ],
   "source": [
    "x_test, t_test = mnist.test.images,mnist.test.labels\n",
    "x_test.shape, t_test.shape"
   ]
  },
  {
   "cell_type": "code",
   "execution_count": 42,
   "metadata": {},
   "outputs": [],
   "source": [
    "!mkdir keras_session  # Kerasの場合はディレクトリを作らないといけない"
   ]
  },
  {
   "cell_type": "code",
   "execution_count": 43,
   "metadata": {},
   "outputs": [
    {
     "name": "stdout",
     "output_type": "stream",
     "text": [
      "Train on 55000 samples, validate on 10000 samples\n",
      "Epoch 1/19\n",
      "55000/55000 [==============================] - 207s 4ms/step - loss: 0.1565 - acc: 0.9520 - val_loss: 0.0447 - val_acc: 0.9857\n",
      "Epoch 2/19\n",
      "55000/55000 [==============================] - 205s 4ms/step - loss: 0.0572 - acc: 0.9817 - val_loss: 0.0609 - val_acc: 0.9809\n",
      "Epoch 3/19\n",
      "55000/55000 [==============================] - 200s 4ms/step - loss: 0.0441 - acc: 0.9863 - val_loss: 0.0437 - val_acc: 0.9874\n",
      "Epoch 4/19\n",
      "55000/55000 [==============================] - 204s 4ms/step - loss: 0.0352 - acc: 0.9886 - val_loss: 0.0506 - val_acc: 0.9853\n",
      "Epoch 5/19\n",
      "55000/55000 [==============================] - 203s 4ms/step - loss: 0.0316 - acc: 0.9900 - val_loss: 0.0396 - val_acc: 0.9889\n",
      "Epoch 6/19\n",
      "55000/55000 [==============================] - 214s 4ms/step - loss: 0.0277 - acc: 0.9913 - val_loss: 0.0376 - val_acc: 0.9901\n",
      "Epoch 7/19\n",
      "55000/55000 [==============================] - 203s 4ms/step - loss: 0.0245 - acc: 0.9925 - val_loss: 0.0517 - val_acc: 0.9876\n",
      "Epoch 8/19\n",
      "55000/55000 [==============================] - 202s 4ms/step - loss: 0.0243 - acc: 0.9932 - val_loss: 0.0445 - val_acc: 0.9906\n",
      "Epoch 9/19\n",
      "55000/55000 [==============================] - 202s 4ms/step - loss: 0.0196 - acc: 0.9944 - val_loss: 0.0428 - val_acc: 0.9904\n",
      "Epoch 10/19\n",
      "55000/55000 [==============================] - 197s 4ms/step - loss: 0.0211 - acc: 0.9940 - val_loss: 0.0576 - val_acc: 0.9857\n",
      "Epoch 11/19\n",
      "55000/55000 [==============================] - 197s 4ms/step - loss: 0.0219 - acc: 0.9939 - val_loss: 0.0479 - val_acc: 0.9906\n",
      "Epoch 00011: early stopping\n"
     ]
    }
   ],
   "source": [
    "# 学習\n",
    "x_train = x_train.reshape([-1,28,28,1])\n",
    "x_test = x_test.reshape([-1,28,28,1])\n",
    "\n",
    "hist = model.fit(x_train, t_train, batch_size=50,\n",
    "                         epochs=19,\n",
    "                         validation_data=(x_test, t_test),\n",
    "                         callbacks=[checkpoint, earlystopping])"
   ]
  },
  {
   "cell_type": "code",
   "execution_count": 44,
   "metadata": {},
   "outputs": [
    {
     "data": {
      "text/plain": [
       "1100"
      ]
     },
     "execution_count": 44,
     "metadata": {},
     "output_type": "execute_result"
    }
   ],
   "source": [
    "1100"
   ]
  },
  {
   "cell_type": "code",
   "execution_count": null,
   "metadata": {},
   "outputs": [],
   "source": []
  },
  {
   "cell_type": "code",
   "execution_count": null,
   "metadata": {},
   "outputs": [],
   "source": []
  },
  {
   "cell_type": "code",
   "execution_count": null,
   "metadata": {},
   "outputs": [],
   "source": []
  },
  {
   "cell_type": "code",
   "execution_count": null,
   "metadata": {},
   "outputs": [],
   "source": []
  },
  {
   "cell_type": "markdown",
   "metadata": {},
   "source": [
    "# テスト"
   ]
  },
  {
   "cell_type": "code",
   "execution_count": 55,
   "metadata": {},
   "outputs": [],
   "source": [
    "sess = tf.InteractiveSession()"
   ]
  },
  {
   "cell_type": "code",
   "execution_count": 70,
   "metadata": {},
   "outputs": [
    {
     "data": {
      "text/plain": [
       "array([0.00012564], dtype=float32)"
      ]
     },
     "execution_count": 70,
     "metadata": {},
     "output_type": "execute_result"
    }
   ],
   "source": [
    "logits = tf.constant([[1., -3, 10]])\n",
    "labels = tf.constant([[0, 0, 1]])\n",
    "\n",
    "xentropy = tf.nn.softmax_cross_entropy_with_logits(logits=logits,\n",
    "                                                                                                  labels=labels)\n",
    "xentropy.eval()"
   ]
  },
  {
   "cell_type": "code",
   "execution_count": 65,
   "metadata": {},
   "outputs": [
    {
     "data": {
      "text/plain": [
       "1.1601256"
      ]
     },
     "execution_count": 65,
     "metadata": {},
     "output_type": "execute_result"
    }
   ],
   "source": [
    "logits = tf.constant([1., -3, 10])\n",
    "labels = tf.constant([0.1, 0.02, 0.88])\n",
    "\n",
    "xentropy = tf.nn.softmax_cross_entropy_with_logits(logits=logits,\n",
    "                                                                                                  labels=labels)\n",
    "xentropy.eval()"
   ]
  },
  {
   "cell_type": "code",
   "execution_count": 88,
   "metadata": {},
   "outputs": [
    {
     "data": {
      "text/plain": [
       "array([0.00012564], dtype=float32)"
      ]
     },
     "execution_count": 88,
     "metadata": {},
     "output_type": "execute_result"
    }
   ],
   "source": [
    "logits = tf.constant([[1., -3, 10]])\n",
    "labels = tf.constant([2])\n",
    "\n",
    "xentropy = tf.nn.sparse_softmax_cross_entropy_with_logits(logits=logits,\n",
    "                                                                                                          labels=labels)\n",
    "xentropy.eval()"
   ]
  },
  {
   "cell_type": "code",
   "execution_count": 86,
   "metadata": {},
   "outputs": [
    {
     "data": {
      "text/plain": [
       "0.00012565448"
      ]
     },
     "execution_count": 86,
     "metadata": {},
     "output_type": "execute_result"
    }
   ],
   "source": [
    "logits = tf.constant([[1., -3., 10.]])\n",
    "labels = tf.constant([[0., 0., 1.]])\n",
    "\n",
    "p = tf.nn.softmax(logits)\n",
    "\n",
    "loss = -tf.reduce_mean(tf.reduce_sum( labels* tf.log(p), axis=1))\n",
    "loss.eval()"
   ]
  },
  {
   "cell_type": "code",
   "execution_count": null,
   "metadata": {},
   "outputs": [],
   "source": []
  }
 ],
 "metadata": {
  "kernelspec": {
   "display_name": "tensorflow",
   "language": "python",
   "name": "tensorflow"
  },
  "language_info": {
   "codemirror_mode": {
    "name": "ipython",
    "version": 3
   },
   "file_extension": ".py",
   "mimetype": "text/x-python",
   "name": "python",
   "nbconvert_exporter": "python",
   "pygments_lexer": "ipython3",
   "version": "3.5.4"
  },
  "toc": {
   "nav_menu": {},
   "number_sections": true,
   "sideBar": true,
   "skip_h1_title": false,
   "toc_cell": false,
   "toc_position": {},
   "toc_section_display": "block",
   "toc_window_display": false
  }
 },
 "nbformat": 4,
 "nbformat_minor": 1
}
