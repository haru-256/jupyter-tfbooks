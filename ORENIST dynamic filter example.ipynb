{
 "cells": [
  {
   "cell_type": "markdown",
   "metadata": {},
   "source": [
    "# TensorFlow"
   ]
  },
  {
   "cell_type": "markdown",
   "metadata": {},
   "source": [
    "**[ODE-01]** 必要なモジュールをインポートして、乱数のシードを設定します。"
   ]
  },
  {
   "cell_type": "code",
   "execution_count": 1,
   "metadata": {},
   "outputs": [
    {
     "name": "stderr",
     "output_type": "stream",
     "text": [
      "/Users/yohei/.pyenv/versions/anaconda3-5.0.0/envs/tensorflow/lib/python3.5/site-packages/h5py/__init__.py:36: FutureWarning: Conversion of the second argument of issubdtype from `float` to `np.floating` is deprecated. In future, it will be treated as `np.float64 == np.dtype(float).type`.\n",
      "  from ._conv import register_converters as _register_converters\n"
     ]
    }
   ],
   "source": [
    "import tensorflow as tf\n",
    "import numpy as np\n",
    "import matplotlib.pyplot as plt\n",
    "import pickle\n",
    "\n",
    "np.random.seed(20160703)\n",
    "tf.set_random_seed(20160703)"
   ]
  },
  {
   "cell_type": "markdown",
   "metadata": {},
   "source": [
    "**[ODE-02]** データファイル「ORENIST.data」から画像とラベルのデータを読み込みます。"
   ]
  },
  {
   "cell_type": "code",
   "execution_count": 2,
   "metadata": {},
   "outputs": [],
   "source": [
    "with open('ORENIST.data', 'rb') as file:\n",
    "    images, labels = pickle.load(file, encoding='latin1')"
   ]
  },
  {
   "cell_type": "markdown",
   "metadata": {},
   "source": [
    "**[ODE-03]** 画像データにフィルターとプーリング層を適用する計算式を用意します。"
   ]
  },
  {
   "cell_type": "code",
   "execution_count": 3,
   "metadata": {},
   "outputs": [],
   "source": [
    "x = tf.placeholder(tf.float32, [None, 784])\n",
    "x_image = tf.reshape(x, [-1,28,28,1])  # NHWC\n",
    "\n",
    "# Variable として定義 [filter_height, filter_width, in_channels, out_channels]\n",
    "W_conv = tf.Variable(tf.truncated_normal(shape=[5,5,1,2], stddev=0.1))\n",
    "h_conv = tf.abs(tf.nn.conv2d(x_image, W_conv,\n",
    "                             strides=[1,1,1,1], padding='SAME'))\n",
    "h_conv_cutoff = tf.nn.relu(h_conv-0.2)\n",
    "\n",
    "# poolingのkernel(window) size とstrideは同じ値に設定するのが一般的\n",
    "# pooling のフィルタは学習すべきパラメータがなく，フィルタはデータ数・チャンネル数で共通の１つだけで良い\n",
    "# よって必ずshape=[1, FH, FW, 1]である．\n",
    "h_pool =tf.nn.max_pool(h_conv_cutoff, ksize=[1,2,2,1],\n",
    "                       strides=[1,2,2,1], padding='SAME')"
   ]
  },
  {
   "cell_type": "markdown",
   "metadata": {},
   "source": [
    "**[ODE-04]** プーリング層からの出力を全結合層とソフトマックス関数からなる「拡張された出力層」に入力する計算式を用意します。"
   ]
  },
  {
   "cell_type": "code",
   "execution_count": 4,
   "metadata": {},
   "outputs": [],
   "source": [
    "h_pool_flat = tf.reshape(h_pool, [-1, 392])\n",
    "\n",
    "num_units1 = 392\n",
    "num_units2 = 2\n",
    "\n",
    "w2 = tf.Variable(tf.truncated_normal([num_units1, num_units2]))\n",
    "b2 = tf.Variable(tf.zeros([num_units2]))\n",
    "hidden2 = tf.nn.tanh(tf.matmul(h_pool_flat, w2) + b2)\n",
    "\n",
    "w0 = tf.Variable(tf.zeros([num_units2, 3]))\n",
    "b0 = tf.Variable(tf.zeros([3]))\n",
    "p = tf.nn.softmax(tf.matmul(hidden2, w0) + b0)"
   ]
  },
  {
   "cell_type": "markdown",
   "metadata": {},
   "source": [
    "**[ODE-05]** 誤差関数 loss、トレーニングアルゴリズム train_step、正解率 accuracy を定義します。"
   ]
  },
  {
   "cell_type": "code",
   "execution_count": 5,
   "metadata": {},
   "outputs": [],
   "source": [
    "t = tf.placeholder(tf.float32, [None, 3])\n",
    "loss = -tf.reduce_sum(t * tf.log(p))\n",
    "train_step = tf.train.AdamOptimizer().minimize(loss)\n",
    "correct_prediction = tf.equal(tf.argmax(p, 1), tf.argmax(t, 1))\n",
    "accuracy = tf.reduce_mean(tf.cast(correct_prediction, tf.float32))"
   ]
  },
  {
   "cell_type": "markdown",
   "metadata": {},
   "source": [
    "**[ODE-06]** セッションを用意して、Variable を初期化します。"
   ]
  },
  {
   "cell_type": "code",
   "execution_count": 6,
   "metadata": {
    "scrolled": false
   },
   "outputs": [],
   "source": [
    "sess = tf.Session()\n",
    "sess.run(tf.global_variables_initializer())"
   ]
  },
  {
   "cell_type": "markdown",
   "metadata": {},
   "source": [
    "**[ODE-07]** パラメーターの最適化を200回繰り返します。"
   ]
  },
  {
   "cell_type": "code",
   "execution_count": 7,
   "metadata": {},
   "outputs": [
    {
     "name": "stdout",
     "output_type": "stream",
     "text": [
      "Step: 10, Loss: 98.618591, Accuracy: 0.644444\n",
      "Step: 20, Loss: 98.038139, Accuracy: 0.677778\n",
      "Step: 30, Loss: 97.233788, Accuracy: 0.722222\n",
      "Step: 40, Loss: 96.181183, Accuracy: 0.811111\n",
      "Step: 50, Loss: 94.913757, Accuracy: 0.833333\n",
      "Step: 60, Loss: 93.212646, Accuracy: 0.877778\n",
      "Step: 70, Loss: 91.002678, Accuracy: 0.922222\n",
      "Step: 80, Loss: 88.412369, Accuracy: 0.955556\n",
      "Step: 90, Loss: 85.766693, Accuracy: 0.955556\n",
      "Step: 100, Loss: 83.228378, Accuracy: 0.977778\n",
      "Step: 110, Loss: 80.836937, Accuracy: 0.988889\n",
      "Step: 120, Loss: 78.676086, Accuracy: 1.000000\n",
      "Step: 130, Loss: 76.683273, Accuracy: 1.000000\n",
      "Step: 140, Loss: 74.864006, Accuracy: 1.000000\n",
      "Step: 150, Loss: 73.193794, Accuracy: 1.000000\n",
      "Step: 160, Loss: 71.621918, Accuracy: 1.000000\n",
      "Step: 170, Loss: 70.129677, Accuracy: 1.000000\n",
      "Step: 180, Loss: 68.704201, Accuracy: 1.000000\n",
      "Step: 190, Loss: 67.337036, Accuracy: 1.000000\n",
      "Step: 200, Loss: 66.022026, Accuracy: 1.000000\n"
     ]
    }
   ],
   "source": [
    "i = 0\n",
    "for _ in range(200):\n",
    "    i += 1\n",
    "    sess.run(train_step, feed_dict={x:images, t:labels})\n",
    "    if i % 10 == 0:\n",
    "        loss_val, acc_val = sess.run(\n",
    "            [loss, accuracy], feed_dict={x:images, t:labels})\n",
    "        print ('Step: %d, Loss: %f, Accuracy: %f'\n",
    "               % (i, loss_val, acc_val))"
   ]
  },
  {
   "cell_type": "markdown",
   "metadata": {},
   "source": [
    "**[ODE-08]** 最適化後の畳込みフィルターの値と、最初の9個分の画像データに対して、畳み込みフィルターとプーリング層を適用した結果を取得します。"
   ]
  },
  {
   "cell_type": "code",
   "execution_count": 8,
   "metadata": {},
   "outputs": [
    {
     "data": {
      "text/plain": [
       "(5, 5, 1, 2)"
      ]
     },
     "execution_count": 8,
     "metadata": {},
     "output_type": "execute_result"
    }
   ],
   "source": [
    "filter_vals, conv_vals, pool_vals = sess.run(\n",
    "    [W_conv, h_conv_cutoff, h_pool], feed_dict={x:images[:9]})\n",
    "filter_vals.shape"
   ]
  },
  {
   "cell_type": "markdown",
   "metadata": {},
   "source": [
    "**[ODE-09]** 畳込みフィルターを適用した結果を画像として表示します。"
   ]
  },
  {
   "cell_type": "code",
   "execution_count": 9,
   "metadata": {},
   "outputs": [
    {
     "data": {
      "image/png": "[encoded data removed]",
      "text/plain": [
       "<matplotlib.figure.Figure at 0x181701dc50>"
      ]
     },
     "metadata": {},
     "output_type": "display_data"
    }
   ],
   "source": [
    "fig = plt.figure(figsize=(10,3))\n",
    "\n",
    "v_max = np.max(conv_vals)\n",
    "\n",
    "# フィルターを表示\n",
    "for i in range(2):\n",
    "    subplot = fig.add_subplot(3, 10, 10*(i+1)+1)\n",
    "    subplot.set_xticks([])\n",
    "    subplot.set_yticks([])\n",
    "    subplot.imshow(filter_vals[:,:,0,i],\n",
    "                   cmap=plt.cm.gray_r, interpolation='nearest')\n",
    "\n",
    "# 学習データとそれにフィルターを適用した後を表示\n",
    "for i in range(9):\n",
    "    subplot = fig.add_subplot(3, 10, i+2)\n",
    "    subplot.set_xticks([])\n",
    "    subplot.set_yticks([])\n",
    "    subplot.set_title('%d' % np.argmax(labels[i]))\n",
    "    # 学習データ\n",
    "    subplot.imshow(images[i].reshape((28,28)), vmin=0, vmax=1,\n",
    "                   cmap=plt.cm.gray_r, interpolation='nearest')\n",
    "    \n",
    "    # filter1を適用後\n",
    "    subplot = fig.add_subplot(3, 10, 10+i+2)\n",
    "    subplot.set_xticks([])\n",
    "    subplot.set_yticks([])\n",
    "    subplot.imshow(conv_vals[i,:,:,0], vmin=0, vmax=v_max,\n",
    "                   cmap=plt.cm.gray_r, interpolation='nearest')\n",
    "    \n",
    "    # filter2を適用後\n",
    "    subplot = fig.add_subplot(3, 10, 20+i+2)\n",
    "    subplot.set_xticks([])\n",
    "    subplot.set_yticks([])\n",
    "    subplot.imshow(conv_vals[i,:,:,1], vmin=0, vmax=v_max,\n",
    "                   cmap=plt.cm.gray_r, interpolation='nearest')"
   ]
  },
  {
   "cell_type": "markdown",
   "metadata": {},
   "source": [
    "**[ODE-10]** 畳込みフィルターとプーリング層を適用した結果を画像として表示します。"
   ]
  },
  {
   "cell_type": "code",
   "execution_count": 10,
   "metadata": {},
   "outputs": [
    {
     "data": {
      "image/png": "[encoded data removed]",
      "text/plain": [
       "<matplotlib.figure.Figure at 0x181701d908>"
      ]
     },
     "metadata": {},
     "output_type": "display_data"
    }
   ],
   "source": [
    "fig = plt.figure(figsize=(10,3))\n",
    "\n",
    "v_max = np.max(pool_vals)\n",
    "\n",
    "for i in range(2):\n",
    "    subplot = fig.add_subplot(3, 10, 10*(i+1)+1)\n",
    "    subplot.set_xticks([])\n",
    "    subplot.set_yticks([])\n",
    "    subplot.imshow(filter_vals[:,:,0,i],\n",
    "                   cmap=plt.cm.gray_r, interpolation='nearest')\n",
    "\n",
    "for i in range(9):\n",
    "    subplot = fig.add_subplot(3, 10, i+2)\n",
    "    subplot.set_xticks([])\n",
    "    subplot.set_yticks([])\n",
    "    subplot.set_title('%d' % np.argmax(labels[i]))\n",
    "    subplot.imshow(images[i].reshape((28,28)), vmin=0, vmax=1,\n",
    "                   cmap=plt.cm.gray_r, interpolation='nearest')\n",
    "    \n",
    "    subplot = fig.add_subplot(3, 10, 10+i+2)\n",
    "    subplot.set_xticks([])\n",
    "    subplot.set_yticks([])\n",
    "    subplot.imshow(pool_vals[i,:,:,0], vmin=0, vmax=v_max,\n",
    "                   cmap=plt.cm.gray_r, interpolation='nearest')\n",
    "    \n",
    "    subplot = fig.add_subplot(3, 10, 20+i+2)\n",
    "    subplot.set_xticks([])\n",
    "    subplot.set_yticks([])\n",
    "    subplot.imshow(pool_vals[i,:,:,1], vmin=0, vmax=v_max,\n",
    "                   cmap=plt.cm.gray_r, interpolation='nearest')"
   ]
  },
  {
   "cell_type": "code",
   "execution_count": null,
   "metadata": {},
   "outputs": [],
   "source": []
  },
  {
   "cell_type": "markdown",
   "metadata": {},
   "source": [
    "# Keras"
   ]
  },
  {
   "cell_type": "code",
   "execution_count": 40,
   "metadata": {},
   "outputs": [],
   "source": [
    "from keras.models import Sequential\n",
    "from keras.layers.core import Activation, Lambda, Dense, Flatten\n",
    "from keras.layers.convolutional import Conv2D\n",
    "from keras.layers.pooling import MaxPooling2D\n",
    "from keras.optimizers import Adam\n",
    "from keras.models import Model\n",
    "from keras.callbacks import TensorBoard\n",
    "from keras.initializers import TruncatedNormal, Zeros\n",
    "from keras import backend as K"
   ]
  },
  {
   "cell_type": "code",
   "execution_count": 42,
   "metadata": {},
   "outputs": [],
   "source": [
    "# 正則化に適用する関数は自由に定義できるが，引数にshapeとnameをとる．\n",
    "def weight_variable(shape, name=None):\n",
    "    # バックエンドKはtensorflowとなる．\n",
    "    return K.truncated_normal(shape, stddev=0.1)"
   ]
  },
  {
   "cell_type": "code",
   "execution_count": 54,
   "metadata": {},
   "outputs": [],
   "source": [
    "model = Sequential()"
   ]
  },
  {
   "cell_type": "code",
   "execution_count": 55,
   "metadata": {},
   "outputs": [
    {
     "name": "stdout",
     "output_type": "stream",
     "text": [
      "_________________________________________________________________\n",
      "Layer (type)                 Output Shape              Param #   \n",
      "=================================================================\n",
      "conv (Conv2D)                (None, 28, 28, 2)         50        \n",
      "_________________________________________________________________\n",
      "lambda_5 (Lambda)            (None, 28, 28, 2)         0         \n",
      "_________________________________________________________________\n",
      "conv_cut_off (Activation)    (None, 28, 28, 2)         0         \n",
      "_________________________________________________________________\n",
      "pool (MaxPooling2D)          (None, 14, 14, 2)         0         \n",
      "_________________________________________________________________\n",
      "flatten_5 (Flatten)          (None, 392)               0         \n",
      "_________________________________________________________________\n",
      "dense_9 (Dense)              (None, 2)                 786       \n",
      "_________________________________________________________________\n",
      "activation_9 (Activation)    (None, 2)                 0         \n",
      "_________________________________________________________________\n",
      "dense_10 (Dense)             (None, 3)                 9         \n",
      "_________________________________________________________________\n",
      "activation_10 (Activation)   (None, 3)                 0         \n",
      "=================================================================\n",
      "Total params: 845\n",
      "Trainable params: 845\n",
      "Non-trainable params: 0\n",
      "_________________________________________________________________\n"
     ]
    }
   ],
   "source": [
    "model.add(Conv2D(filters=2, kernel_size=5,\n",
    "                 padding=\"same\",\n",
    "                 data_format=\"channels_last\",\n",
    "                 use_bias=False,\n",
    "                 input_shape=(28, 28, 1),\n",
    "                kernel_initializer=weight_variable, # 単にkernel_initializer=TruncatedNormal(stddev=0.1)でもOK\n",
    "                 name='conv'))\n",
    "model.add(Lambda(lambda x: x - 0.2))\n",
    "model.add(Activation('relu', name='conv_cut_off'))\n",
    "model.add(MaxPooling2D(pool_size=(2, 2),\n",
    "                       padding=\"same\", \n",
    "                       data_format=\"channels_last\", name='pool'))\n",
    "model.add(Flatten())  #  入力を平滑化する．バッチサイズに影響されない．\n",
    "model.add(Dense(units=2))\n",
    "model.add(Activation('tanh'))\n",
    "model.add(Dense(units=3))\n",
    "model.add(Activation('softmax'))\n",
    "\n",
    "model.summary()"
   ]
  },
  {
   "cell_type": "code",
   "execution_count": 56,
   "metadata": {},
   "outputs": [],
   "source": [
    "model.compile(loss='categorical_crossentropy',\n",
    "             optimizer=Adam(),\n",
    "             metrics=['accuracy'])"
   ]
  },
  {
   "cell_type": "code",
   "execution_count": 57,
   "metadata": {},
   "outputs": [
    {
     "name": "stdout",
     "output_type": "stream",
     "text": [
      "Train on 90 samples, validate on 90 samples\n",
      "Epoch 1/200\n",
      "90/90 [==============================] - 1s 6ms/step - loss: 1.0791 - acc: 0.4000 - val_loss: 1.0753 - val_acc: 0.4000\n",
      "Epoch 2/200\n",
      "90/90 [==============================] - 0s 411us/step - loss: 1.0753 - acc: 0.4000 - val_loss: 1.0713 - val_acc: 0.4000\n",
      "Epoch 3/200\n",
      "90/90 [==============================] - 0s 530us/step - loss: 1.0713 - acc: 0.4000 - val_loss: 1.0670 - val_acc: 0.4111\n",
      "Epoch 4/200\n",
      "90/90 [==============================] - 0s 507us/step - loss: 1.0670 - acc: 0.4111 - val_loss: 1.0625 - val_acc: 0.4333\n",
      "Epoch 5/200\n",
      "90/90 [==============================] - 0s 530us/step - loss: 1.0625 - acc: 0.4333 - val_loss: 1.0577 - val_acc: 0.4333\n",
      "Epoch 6/200\n",
      "90/90 [==============================] - 0s 526us/step - loss: 1.0577 - acc: 0.4333 - val_loss: 1.0525 - val_acc: 0.4333\n",
      "Epoch 7/200\n",
      "90/90 [==============================] - 0s 513us/step - loss: 1.0525 - acc: 0.4333 - val_loss: 1.0471 - val_acc: 0.4444\n",
      "Epoch 8/200\n",
      "90/90 [==============================] - 0s 587us/step - loss: 1.0471 - acc: 0.4444 - val_loss: 1.0414 - val_acc: 0.4444\n",
      "Epoch 9/200\n",
      "90/90 [==============================] - 0s 566us/step - loss: 1.0414 - acc: 0.4444 - val_loss: 1.0354 - val_acc: 0.4778\n",
      "Epoch 10/200\n",
      "90/90 [==============================] - 0s 497us/step - loss: 1.0354 - acc: 0.4778 - val_loss: 1.0292 - val_acc: 0.5111\n",
      "Epoch 11/200\n",
      "90/90 [==============================] - 0s 493us/step - loss: 1.0292 - acc: 0.5111 - val_loss: 1.0228 - val_acc: 0.5222\n",
      "Epoch 12/200\n",
      "90/90 [==============================] - 0s 519us/step - loss: 1.0228 - acc: 0.5222 - val_loss: 1.0161 - val_acc: 0.5333\n",
      "Epoch 13/200\n",
      "90/90 [==============================] - 0s 523us/step - loss: 1.0161 - acc: 0.5333 - val_loss: 1.0093 - val_acc: 0.5444\n",
      "Epoch 14/200\n",
      "90/90 [==============================] - 0s 429us/step - loss: 1.0093 - acc: 0.5444 - val_loss: 1.0022 - val_acc: 0.5444\n",
      "Epoch 15/200\n",
      "90/90 [==============================] - 0s 519us/step - loss: 1.0022 - acc: 0.5444 - val_loss: 0.9949 - val_acc: 0.5444\n",
      "Epoch 16/200\n",
      "90/90 [==============================] - 0s 518us/step - loss: 0.9949 - acc: 0.5444 - val_loss: 0.9874 - val_acc: 0.5556\n",
      "Epoch 17/200\n",
      "90/90 [==============================] - 0s 472us/step - loss: 0.9874 - acc: 0.5556 - val_loss: 0.9798 - val_acc: 0.5667\n",
      "Epoch 18/200\n",
      "90/90 [==============================] - 0s 442us/step - loss: 0.9798 - acc: 0.5667 - val_loss: 0.9720 - val_acc: 0.5778\n",
      "Epoch 19/200\n",
      "90/90 [==============================] - 0s 503us/step - loss: 0.9720 - acc: 0.5778 - val_loss: 0.9639 - val_acc: 0.5778\n",
      "Epoch 20/200\n",
      "90/90 [==============================] - 0s 509us/step - loss: 0.9639 - acc: 0.5778 - val_loss: 0.9557 - val_acc: 0.5889\n",
      "Epoch 21/200\n",
      "90/90 [==============================] - 0s 493us/step - loss: 0.9557 - acc: 0.5889 - val_loss: 0.9473 - val_acc: 0.6000\n",
      "Epoch 22/200\n",
      "90/90 [==============================] - 0s 498us/step - loss: 0.9473 - acc: 0.6000 - val_loss: 0.9387 - val_acc: 0.6111\n",
      "Epoch 23/200\n",
      "90/90 [==============================] - 0s 466us/step - loss: 0.9387 - acc: 0.6111 - val_loss: 0.9299 - val_acc: 0.6111\n",
      "Epoch 24/200\n",
      "90/90 [==============================] - 0s 462us/step - loss: 0.9299 - acc: 0.6111 - val_loss: 0.9209 - val_acc: 0.6444\n",
      "Epoch 25/200\n",
      "90/90 [==============================] - 0s 485us/step - loss: 0.9209 - acc: 0.6444 - val_loss: 0.9117 - val_acc: 0.6556\n",
      "Epoch 26/200\n",
      "90/90 [==============================] - 0s 507us/step - loss: 0.9117 - acc: 0.6556 - val_loss: 0.9023 - val_acc: 0.6556\n",
      "Epoch 27/200\n",
      "90/90 [==============================] - 0s 433us/step - loss: 0.9023 - acc: 0.6556 - val_loss: 0.8927 - val_acc: 0.6556\n",
      "Epoch 28/200\n",
      "90/90 [==============================] - 0s 474us/step - loss: 0.8927 - acc: 0.6556 - val_loss: 0.8829 - val_acc: 0.6556\n",
      "Epoch 29/200\n",
      "90/90 [==============================] - 0s 466us/step - loss: 0.8829 - acc: 0.6556 - val_loss: 0.8730 - val_acc: 0.6556\n",
      "Epoch 30/200\n",
      "90/90 [==============================] - 0s 503us/step - loss: 0.8730 - acc: 0.6556 - val_loss: 0.8630 - val_acc: 0.6556\n",
      "Epoch 31/200\n",
      "90/90 [==============================] - 0s 526us/step - loss: 0.8630 - acc: 0.6556 - val_loss: 0.8529 - val_acc: 0.6556\n",
      "Epoch 32/200\n",
      "90/90 [==============================] - 0s 535us/step - loss: 0.8529 - acc: 0.6556 - val_loss: 0.8428 - val_acc: 0.6556\n",
      "Epoch 33/200\n",
      "90/90 [==============================] - 0s 525us/step - loss: 0.8428 - acc: 0.6556 - val_loss: 0.8327 - val_acc: 0.6556\n",
      "Epoch 34/200\n",
      "90/90 [==============================] - 0s 524us/step - loss: 0.8327 - acc: 0.6556 - val_loss: 0.8226 - val_acc: 0.6556\n",
      "Epoch 35/200\n",
      "90/90 [==============================] - 0s 455us/step - loss: 0.8226 - acc: 0.6556 - val_loss: 0.8125 - val_acc: 0.6556\n",
      "Epoch 36/200\n",
      "90/90 [==============================] - 0s 511us/step - loss: 0.8125 - acc: 0.6556 - val_loss: 0.8024 - val_acc: 0.6556\n",
      "Epoch 37/200\n",
      "90/90 [==============================] - 0s 469us/step - loss: 0.8024 - acc: 0.6556 - val_loss: 0.7924 - val_acc: 0.6556\n",
      "Epoch 38/200\n",
      "90/90 [==============================] - 0s 440us/step - loss: 0.7924 - acc: 0.6556 - val_loss: 0.7823 - val_acc: 0.6556\n",
      "Epoch 39/200\n",
      "90/90 [==============================] - 0s 475us/step - loss: 0.7823 - acc: 0.6556 - val_loss: 0.7721 - val_acc: 0.6556\n",
      "Epoch 40/200\n",
      "90/90 [==============================] - 0s 440us/step - loss: 0.7721 - acc: 0.6556 - val_loss: 0.7619 - val_acc: 0.6556\n",
      "Epoch 41/200\n",
      "90/90 [==============================] - 0s 485us/step - loss: 0.7619 - acc: 0.6556 - val_loss: 0.7516 - val_acc: 0.6556\n",
      "Epoch 42/200\n",
      "90/90 [==============================] - 0s 550us/step - loss: 0.7516 - acc: 0.6556 - val_loss: 0.7412 - val_acc: 0.6667\n",
      "Epoch 43/200\n",
      "90/90 [==============================] - 0s 524us/step - loss: 0.7412 - acc: 0.6667 - val_loss: 0.7308 - val_acc: 0.6667\n",
      "Epoch 44/200\n",
      "90/90 [==============================] - 0s 508us/step - loss: 0.7308 - acc: 0.6667 - val_loss: 0.7203 - val_acc: 0.6667\n",
      "Epoch 45/200\n",
      "90/90 [==============================] - 0s 467us/step - loss: 0.7203 - acc: 0.6667 - val_loss: 0.7098 - val_acc: 0.6667\n",
      "Epoch 46/200\n",
      "90/90 [==============================] - 0s 509us/step - loss: 0.7098 - acc: 0.6667 - val_loss: 0.6992 - val_acc: 0.6667\n",
      "Epoch 47/200\n",
      "90/90 [==============================] - 0s 483us/step - loss: 0.6992 - acc: 0.6667 - val_loss: 0.6887 - val_acc: 0.6667\n",
      "Epoch 48/200\n",
      "90/90 [==============================] - 0s 456us/step - loss: 0.6887 - acc: 0.6667 - val_loss: 0.6783 - val_acc: 0.6778\n",
      "Epoch 49/200\n",
      "90/90 [==============================] - 0s 529us/step - loss: 0.6783 - acc: 0.6778 - val_loss: 0.6680 - val_acc: 0.7000\n",
      "Epoch 50/200\n",
      "90/90 [==============================] - 0s 505us/step - loss: 0.6680 - acc: 0.7000 - val_loss: 0.6579 - val_acc: 0.7333\n",
      "Epoch 51/200\n",
      "90/90 [==============================] - 0s 497us/step - loss: 0.6579 - acc: 0.7333 - val_loss: 0.6481 - val_acc: 0.8111\n",
      "Epoch 52/200\n",
      "90/90 [==============================] - 0s 528us/step - loss: 0.6481 - acc: 0.8111 - val_loss: 0.6385 - val_acc: 0.8778\n",
      "Epoch 53/200\n",
      "90/90 [==============================] - 0s 475us/step - loss: 0.6385 - acc: 0.8778 - val_loss: 0.6292 - val_acc: 0.9556\n",
      "Epoch 54/200\n",
      "90/90 [==============================] - 0s 519us/step - loss: 0.6292 - acc: 0.9556 - val_loss: 0.6202 - val_acc: 0.9667\n",
      "Epoch 55/200\n",
      "90/90 [==============================] - 0s 444us/step - loss: 0.6202 - acc: 0.9667 - val_loss: 0.6114 - val_acc: 0.9778\n",
      "Epoch 56/200\n",
      "90/90 [==============================] - 0s 472us/step - loss: 0.6114 - acc: 0.9778 - val_loss: 0.6031 - val_acc: 0.9889\n",
      "Epoch 57/200\n",
      "90/90 [==============================] - 0s 425us/step - loss: 0.6031 - acc: 0.9889 - val_loss: 0.5950 - val_acc: 0.9889\n",
      "Epoch 58/200\n",
      "90/90 [==============================] - 0s 433us/step - loss: 0.5950 - acc: 0.9889 - val_loss: 0.5872 - val_acc: 0.9889\n",
      "Epoch 59/200\n",
      "90/90 [==============================] - 0s 531us/step - loss: 0.5872 - acc: 0.9889 - val_loss: 0.5797 - val_acc: 0.9889\n",
      "Epoch 60/200\n",
      "90/90 [==============================] - 0s 446us/step - loss: 0.5797 - acc: 0.9889 - val_loss: 0.5724 - val_acc: 0.9889\n",
      "Epoch 61/200\n",
      "90/90 [==============================] - 0s 535us/step - loss: 0.5724 - acc: 0.9889 - val_loss: 0.5654 - val_acc: 0.9889\n"
     ]
    },
    {
     "name": "stdout",
     "output_type": "stream",
     "text": [
      "Epoch 62/200\n",
      "90/90 [==============================] - 0s 570us/step - loss: 0.5654 - acc: 0.9889 - val_loss: 0.5586 - val_acc: 0.9889\n",
      "Epoch 63/200\n",
      "90/90 [==============================] - 0s 602us/step - loss: 0.5586 - acc: 0.9889 - val_loss: 0.5521 - val_acc: 0.9889\n",
      "Epoch 64/200\n",
      "90/90 [==============================] - 0s 658us/step - loss: 0.5521 - acc: 0.9889 - val_loss: 0.5457 - val_acc: 0.9889\n",
      "Epoch 65/200\n",
      "90/90 [==============================] - 0s 714us/step - loss: 0.5457 - acc: 0.9889 - val_loss: 0.5396 - val_acc: 0.9889\n",
      "Epoch 66/200\n",
      "90/90 [==============================] - 0s 599us/step - loss: 0.5396 - acc: 0.9889 - val_loss: 0.5338 - val_acc: 0.9889\n",
      "Epoch 67/200\n",
      "90/90 [==============================] - 0s 494us/step - loss: 0.5338 - acc: 0.9889 - val_loss: 0.5282 - val_acc: 0.9889\n",
      "Epoch 68/200\n",
      "90/90 [==============================] - 0s 512us/step - loss: 0.5282 - acc: 0.9889 - val_loss: 0.5229 - val_acc: 0.9889\n",
      "Epoch 69/200\n",
      "90/90 [==============================] - 0s 448us/step - loss: 0.5229 - acc: 0.9889 - val_loss: 0.5177 - val_acc: 0.9889\n",
      "Epoch 70/200\n",
      "90/90 [==============================] - 0s 471us/step - loss: 0.5177 - acc: 0.9889 - val_loss: 0.5129 - val_acc: 0.9889\n",
      "Epoch 71/200\n",
      "90/90 [==============================] - 0s 471us/step - loss: 0.5129 - acc: 0.9889 - val_loss: 0.5082 - val_acc: 0.9889\n",
      "Epoch 72/200\n",
      "90/90 [==============================] - 0s 543us/step - loss: 0.5082 - acc: 0.9889 - val_loss: 0.5038 - val_acc: 0.9889\n",
      "Epoch 73/200\n",
      "90/90 [==============================] - 0s 514us/step - loss: 0.5038 - acc: 0.9889 - val_loss: 0.4995 - val_acc: 0.9889\n",
      "Epoch 74/200\n",
      "90/90 [==============================] - 0s 492us/step - loss: 0.4995 - acc: 0.9889 - val_loss: 0.4955 - val_acc: 0.9889\n",
      "Epoch 75/200\n",
      "90/90 [==============================] - 0s 524us/step - loss: 0.4955 - acc: 0.9889 - val_loss: 0.4916 - val_acc: 1.0000\n",
      "Epoch 76/200\n",
      "90/90 [==============================] - 0s 538us/step - loss: 0.4916 - acc: 1.0000 - val_loss: 0.4879 - val_acc: 1.0000\n",
      "Epoch 77/200\n",
      "90/90 [==============================] - 0s 543us/step - loss: 0.4879 - acc: 1.0000 - val_loss: 0.4843 - val_acc: 1.0000\n",
      "Epoch 78/200\n",
      "90/90 [==============================] - 0s 574us/step - loss: 0.4843 - acc: 1.0000 - val_loss: 0.4809 - val_acc: 1.0000\n",
      "Epoch 79/200\n",
      "90/90 [==============================] - 0s 607us/step - loss: 0.4809 - acc: 1.0000 - val_loss: 0.4776 - val_acc: 1.0000\n",
      "Epoch 80/200\n",
      "90/90 [==============================] - 0s 650us/step - loss: 0.4776 - acc: 1.0000 - val_loss: 0.4744 - val_acc: 1.0000\n",
      "Epoch 81/200\n",
      "90/90 [==============================] - 0s 610us/step - loss: 0.4744 - acc: 1.0000 - val_loss: 0.4713 - val_acc: 1.0000\n",
      "Epoch 82/200\n",
      "90/90 [==============================] - 0s 622us/step - loss: 0.4713 - acc: 1.0000 - val_loss: 0.4684 - val_acc: 1.0000\n",
      "Epoch 83/200\n",
      "90/90 [==============================] - 0s 527us/step - loss: 0.4684 - acc: 1.0000 - val_loss: 0.4655 - val_acc: 1.0000\n",
      "Epoch 84/200\n",
      "90/90 [==============================] - 0s 494us/step - loss: 0.4655 - acc: 1.0000 - val_loss: 0.4628 - val_acc: 1.0000\n",
      "Epoch 85/200\n",
      "90/90 [==============================] - 0s 466us/step - loss: 0.4628 - acc: 1.0000 - val_loss: 0.4602 - val_acc: 1.0000\n",
      "Epoch 86/200\n",
      "90/90 [==============================] - 0s 403us/step - loss: 0.4602 - acc: 1.0000 - val_loss: 0.4576 - val_acc: 1.0000\n",
      "Epoch 87/200\n",
      "90/90 [==============================] - 0s 460us/step - loss: 0.4576 - acc: 1.0000 - val_loss: 0.4552 - val_acc: 1.0000\n",
      "Epoch 88/200\n",
      "90/90 [==============================] - 0s 471us/step - loss: 0.4552 - acc: 1.0000 - val_loss: 0.4528 - val_acc: 1.0000\n",
      "Epoch 89/200\n",
      "90/90 [==============================] - 0s 414us/step - loss: 0.4528 - acc: 1.0000 - val_loss: 0.4505 - val_acc: 1.0000\n",
      "Epoch 90/200\n",
      "90/90 [==============================] - 0s 477us/step - loss: 0.4505 - acc: 1.0000 - val_loss: 0.4482 - val_acc: 1.0000\n",
      "Epoch 91/200\n",
      "90/90 [==============================] - 0s 453us/step - loss: 0.4482 - acc: 1.0000 - val_loss: 0.4461 - val_acc: 1.0000\n",
      "Epoch 92/200\n",
      "90/90 [==============================] - 0s 445us/step - loss: 0.4461 - acc: 1.0000 - val_loss: 0.4440 - val_acc: 1.0000\n",
      "Epoch 93/200\n",
      "90/90 [==============================] - 0s 441us/step - loss: 0.4440 - acc: 1.0000 - val_loss: 0.4419 - val_acc: 1.0000\n",
      "Epoch 94/200\n",
      "90/90 [==============================] - 0s 449us/step - loss: 0.4419 - acc: 1.0000 - val_loss: 0.4399 - val_acc: 1.0000\n",
      "Epoch 95/200\n",
      "90/90 [==============================] - 0s 466us/step - loss: 0.4399 - acc: 1.0000 - val_loss: 0.4380 - val_acc: 1.0000\n",
      "Epoch 96/200\n",
      "90/90 [==============================] - 0s 495us/step - loss: 0.4380 - acc: 1.0000 - val_loss: 0.4361 - val_acc: 1.0000\n",
      "Epoch 97/200\n",
      "90/90 [==============================] - 0s 501us/step - loss: 0.4361 - acc: 1.0000 - val_loss: 0.4343 - val_acc: 1.0000\n",
      "Epoch 98/200\n",
      "90/90 [==============================] - 0s 502us/step - loss: 0.4343 - acc: 1.0000 - val_loss: 0.4325 - val_acc: 1.0000\n",
      "Epoch 99/200\n",
      "90/90 [==============================] - 0s 476us/step - loss: 0.4325 - acc: 1.0000 - val_loss: 0.4307 - val_acc: 1.0000\n",
      "Epoch 100/200\n",
      "90/90 [==============================] - 0s 476us/step - loss: 0.4307 - acc: 1.0000 - val_loss: 0.4290 - val_acc: 1.0000\n",
      "Epoch 101/200\n",
      "90/90 [==============================] - 0s 473us/step - loss: 0.4290 - acc: 1.0000 - val_loss: 0.4273 - val_acc: 1.0000\n",
      "Epoch 102/200\n",
      "90/90 [==============================] - 0s 483us/step - loss: 0.4273 - acc: 1.0000 - val_loss: 0.4257 - val_acc: 1.0000\n",
      "Epoch 103/200\n",
      "90/90 [==============================] - 0s 477us/step - loss: 0.4257 - acc: 1.0000 - val_loss: 0.4241 - val_acc: 1.0000\n",
      "Epoch 104/200\n",
      "90/90 [==============================] - 0s 515us/step - loss: 0.4241 - acc: 1.0000 - val_loss: 0.4225 - val_acc: 1.0000\n",
      "Epoch 105/200\n",
      "90/90 [==============================] - 0s 510us/step - loss: 0.4225 - acc: 1.0000 - val_loss: 0.4209 - val_acc: 1.0000\n",
      "Epoch 106/200\n",
      "90/90 [==============================] - 0s 457us/step - loss: 0.4209 - acc: 1.0000 - val_loss: 0.4194 - val_acc: 1.0000\n",
      "Epoch 107/200\n",
      "90/90 [==============================] - 0s 524us/step - loss: 0.4194 - acc: 1.0000 - val_loss: 0.4179 - val_acc: 1.0000\n",
      "Epoch 108/200\n",
      "90/90 [==============================] - 0s 461us/step - loss: 0.4179 - acc: 1.0000 - val_loss: 0.4164 - val_acc: 1.0000\n",
      "Epoch 109/200\n",
      "90/90 [==============================] - 0s 465us/step - loss: 0.4164 - acc: 1.0000 - val_loss: 0.4150 - val_acc: 1.0000\n",
      "Epoch 110/200\n",
      "90/90 [==============================] - 0s 480us/step - loss: 0.4150 - acc: 1.0000 - val_loss: 0.4136 - val_acc: 1.0000\n",
      "Epoch 111/200\n",
      "90/90 [==============================] - 0s 449us/step - loss: 0.4136 - acc: 1.0000 - val_loss: 0.4122 - val_acc: 1.0000\n",
      "Epoch 112/200\n",
      "90/90 [==============================] - 0s 477us/step - loss: 0.4122 - acc: 1.0000 - val_loss: 0.4108 - val_acc: 1.0000\n",
      "Epoch 113/200\n",
      "90/90 [==============================] - 0s 475us/step - loss: 0.4108 - acc: 1.0000 - val_loss: 0.4094 - val_acc: 1.0000\n",
      "Epoch 114/200\n",
      "90/90 [==============================] - 0s 422us/step - loss: 0.4094 - acc: 1.0000 - val_loss: 0.4081 - val_acc: 1.0000\n",
      "Epoch 115/200\n",
      "90/90 [==============================] - 0s 478us/step - loss: 0.4081 - acc: 1.0000 - val_loss: 0.4068 - val_acc: 1.0000\n",
      "Epoch 116/200\n",
      "90/90 [==============================] - 0s 418us/step - loss: 0.4068 - acc: 1.0000 - val_loss: 0.4055 - val_acc: 1.0000\n",
      "Epoch 117/200\n",
      "90/90 [==============================] - 0s 457us/step - loss: 0.4055 - acc: 1.0000 - val_loss: 0.4042 - val_acc: 1.0000\n",
      "Epoch 118/200\n",
      "90/90 [==============================] - 0s 428us/step - loss: 0.4042 - acc: 1.0000 - val_loss: 0.4029 - val_acc: 1.0000\n",
      "Epoch 119/200\n",
      "90/90 [==============================] - 0s 479us/step - loss: 0.4029 - acc: 1.0000 - val_loss: 0.4017 - val_acc: 1.0000\n",
      "Epoch 120/200\n",
      "90/90 [==============================] - 0s 486us/step - loss: 0.4017 - acc: 1.0000 - val_loss: 0.4004 - val_acc: 1.0000\n",
      "Epoch 121/200\n",
      "90/90 [==============================] - 0s 422us/step - loss: 0.4004 - acc: 1.0000 - val_loss: 0.3992 - val_acc: 1.0000\n",
      "Epoch 122/200\n",
      "90/90 [==============================] - 0s 468us/step - loss: 0.3992 - acc: 1.0000 - val_loss: 0.3980 - val_acc: 1.0000\n"
     ]
    },
    {
     "name": "stdout",
     "output_type": "stream",
     "text": [
      "Epoch 123/200\n",
      "90/90 [==============================] - 0s 513us/step - loss: 0.3980 - acc: 1.0000 - val_loss: 0.3968 - val_acc: 1.0000\n",
      "Epoch 124/200\n",
      "90/90 [==============================] - 0s 530us/step - loss: 0.3968 - acc: 1.0000 - val_loss: 0.3956 - val_acc: 1.0000\n",
      "Epoch 125/200\n",
      "90/90 [==============================] - 0s 442us/step - loss: 0.3956 - acc: 1.0000 - val_loss: 0.3944 - val_acc: 1.0000\n",
      "Epoch 126/200\n",
      "90/90 [==============================] - 0s 496us/step - loss: 0.3944 - acc: 1.0000 - val_loss: 0.3933 - val_acc: 1.0000\n",
      "Epoch 127/200\n",
      "90/90 [==============================] - 0s 524us/step - loss: 0.3933 - acc: 1.0000 - val_loss: 0.3921 - val_acc: 1.0000\n",
      "Epoch 128/200\n",
      "90/90 [==============================] - 0s 498us/step - loss: 0.3921 - acc: 1.0000 - val_loss: 0.3910 - val_acc: 1.0000\n",
      "Epoch 129/200\n",
      "90/90 [==============================] - 0s 505us/step - loss: 0.3910 - acc: 1.0000 - val_loss: 0.3899 - val_acc: 1.0000\n",
      "Epoch 130/200\n",
      "90/90 [==============================] - 0s 461us/step - loss: 0.3899 - acc: 1.0000 - val_loss: 0.3888 - val_acc: 1.0000\n",
      "Epoch 131/200\n",
      "90/90 [==============================] - 0s 578us/step - loss: 0.3888 - acc: 1.0000 - val_loss: 0.3877 - val_acc: 1.0000\n",
      "Epoch 132/200\n",
      "90/90 [==============================] - 0s 526us/step - loss: 0.3877 - acc: 1.0000 - val_loss: 0.3866 - val_acc: 1.0000\n",
      "Epoch 133/200\n",
      "90/90 [==============================] - 0s 433us/step - loss: 0.3866 - acc: 1.0000 - val_loss: 0.3855 - val_acc: 1.0000\n",
      "Epoch 134/200\n",
      "90/90 [==============================] - 0s 498us/step - loss: 0.3855 - acc: 1.0000 - val_loss: 0.3844 - val_acc: 1.0000\n",
      "Epoch 135/200\n",
      "90/90 [==============================] - 0s 488us/step - loss: 0.3844 - acc: 1.0000 - val_loss: 0.3834 - val_acc: 1.0000\n",
      "Epoch 136/200\n",
      "90/90 [==============================] - 0s 595us/step - loss: 0.3834 - acc: 1.0000 - val_loss: 0.3823 - val_acc: 1.0000\n",
      "Epoch 137/200\n",
      "90/90 [==============================] - 0s 507us/step - loss: 0.3823 - acc: 1.0000 - val_loss: 0.3813 - val_acc: 1.0000\n",
      "Epoch 138/200\n",
      "90/90 [==============================] - 0s 545us/step - loss: 0.3813 - acc: 1.0000 - val_loss: 0.3803 - val_acc: 1.0000\n",
      "Epoch 139/200\n",
      "90/90 [==============================] - 0s 602us/step - loss: 0.3803 - acc: 1.0000 - val_loss: 0.3792 - val_acc: 1.0000\n",
      "Epoch 140/200\n",
      "90/90 [==============================] - 0s 519us/step - loss: 0.3792 - acc: 1.0000 - val_loss: 0.3782 - val_acc: 1.0000\n",
      "Epoch 141/200\n",
      "90/90 [==============================] - 0s 495us/step - loss: 0.3782 - acc: 1.0000 - val_loss: 0.3772 - val_acc: 1.0000\n",
      "Epoch 142/200\n",
      "90/90 [==============================] - 0s 470us/step - loss: 0.3772 - acc: 1.0000 - val_loss: 0.3762 - val_acc: 1.0000\n",
      "Epoch 143/200\n",
      "90/90 [==============================] - 0s 455us/step - loss: 0.3762 - acc: 1.0000 - val_loss: 0.3752 - val_acc: 1.0000\n",
      "Epoch 144/200\n",
      "90/90 [==============================] - 0s 518us/step - loss: 0.3752 - acc: 1.0000 - val_loss: 0.3743 - val_acc: 1.0000\n",
      "Epoch 145/200\n",
      "90/90 [==============================] - 0s 504us/step - loss: 0.3743 - acc: 1.0000 - val_loss: 0.3733 - val_acc: 1.0000\n",
      "Epoch 146/200\n",
      "90/90 [==============================] - 0s 516us/step - loss: 0.3733 - acc: 1.0000 - val_loss: 0.3723 - val_acc: 1.0000\n",
      "Epoch 147/200\n",
      "90/90 [==============================] - 0s 459us/step - loss: 0.3723 - acc: 1.0000 - val_loss: 0.3714 - val_acc: 1.0000\n",
      "Epoch 148/200\n",
      "90/90 [==============================] - 0s 562us/step - loss: 0.3714 - acc: 1.0000 - val_loss: 0.3704 - val_acc: 1.0000\n",
      "Epoch 149/200\n",
      "90/90 [==============================] - 0s 431us/step - loss: 0.3704 - acc: 1.0000 - val_loss: 0.3694 - val_acc: 1.0000\n",
      "Epoch 150/200\n",
      "90/90 [==============================] - 0s 454us/step - loss: 0.3694 - acc: 1.0000 - val_loss: 0.3685 - val_acc: 1.0000\n",
      "Epoch 151/200\n",
      "90/90 [==============================] - 0s 426us/step - loss: 0.3685 - acc: 1.0000 - val_loss: 0.3676 - val_acc: 1.0000\n",
      "Epoch 152/200\n",
      "90/90 [==============================] - 0s 482us/step - loss: 0.3676 - acc: 1.0000 - val_loss: 0.3666 - val_acc: 1.0000\n",
      "Epoch 153/200\n",
      "90/90 [==============================] - 0s 452us/step - loss: 0.3666 - acc: 1.0000 - val_loss: 0.3657 - val_acc: 1.0000\n",
      "Epoch 154/200\n",
      "90/90 [==============================] - 0s 506us/step - loss: 0.3657 - acc: 1.0000 - val_loss: 0.3648 - val_acc: 1.0000\n",
      "Epoch 155/200\n",
      "90/90 [==============================] - 0s 531us/step - loss: 0.3648 - acc: 1.0000 - val_loss: 0.3639 - val_acc: 1.0000\n",
      "Epoch 156/200\n",
      "90/90 [==============================] - 0s 447us/step - loss: 0.3639 - acc: 1.0000 - val_loss: 0.3630 - val_acc: 1.0000\n",
      "Epoch 157/200\n",
      "90/90 [==============================] - 0s 518us/step - loss: 0.3630 - acc: 1.0000 - val_loss: 0.3621 - val_acc: 1.0000\n",
      "Epoch 158/200\n",
      "90/90 [==============================] - 0s 491us/step - loss: 0.3621 - acc: 1.0000 - val_loss: 0.3612 - val_acc: 1.0000\n",
      "Epoch 159/200\n",
      "90/90 [==============================] - 0s 508us/step - loss: 0.3612 - acc: 1.0000 - val_loss: 0.3603 - val_acc: 1.0000\n",
      "Epoch 160/200\n",
      "90/90 [==============================] - 0s 582us/step - loss: 0.3603 - acc: 1.0000 - val_loss: 0.3594 - val_acc: 1.0000\n",
      "Epoch 161/200\n",
      "90/90 [==============================] - 0s 527us/step - loss: 0.3594 - acc: 1.0000 - val_loss: 0.3586 - val_acc: 1.0000\n",
      "Epoch 162/200\n",
      "90/90 [==============================] - 0s 503us/step - loss: 0.3586 - acc: 1.0000 - val_loss: 0.3577 - val_acc: 1.0000\n",
      "Epoch 163/200\n",
      "90/90 [==============================] - 0s 491us/step - loss: 0.3577 - acc: 1.0000 - val_loss: 0.3568 - val_acc: 1.0000\n",
      "Epoch 164/200\n",
      "90/90 [==============================] - 0s 490us/step - loss: 0.3568 - acc: 1.0000 - val_loss: 0.3560 - val_acc: 1.0000\n",
      "Epoch 165/200\n",
      "90/90 [==============================] - 0s 514us/step - loss: 0.3560 - acc: 1.0000 - val_loss: 0.3551 - val_acc: 1.0000\n",
      "Epoch 166/200\n",
      "90/90 [==============================] - 0s 489us/step - loss: 0.3551 - acc: 1.0000 - val_loss: 0.3543 - val_acc: 1.0000\n",
      "Epoch 167/200\n",
      "90/90 [==============================] - 0s 472us/step - loss: 0.3543 - acc: 1.0000 - val_loss: 0.3534 - val_acc: 1.0000\n",
      "Epoch 168/200\n",
      "90/90 [==============================] - 0s 524us/step - loss: 0.3534 - acc: 1.0000 - val_loss: 0.3526 - val_acc: 1.0000\n",
      "Epoch 169/200\n",
      "90/90 [==============================] - 0s 496us/step - loss: 0.3526 - acc: 1.0000 - val_loss: 0.3518 - val_acc: 1.0000\n",
      "Epoch 170/200\n",
      "90/90 [==============================] - 0s 474us/step - loss: 0.3518 - acc: 1.0000 - val_loss: 0.3509 - val_acc: 1.0000\n",
      "Epoch 171/200\n",
      "90/90 [==============================] - 0s 541us/step - loss: 0.3509 - acc: 1.0000 - val_loss: 0.3501 - val_acc: 1.0000\n",
      "Epoch 172/200\n",
      "90/90 [==============================] - 0s 522us/step - loss: 0.3501 - acc: 1.0000 - val_loss: 0.3493 - val_acc: 1.0000\n",
      "Epoch 173/200\n",
      "90/90 [==============================] - 0s 497us/step - loss: 0.3493 - acc: 1.0000 - val_loss: 0.3485 - val_acc: 1.0000\n",
      "Epoch 174/200\n",
      "90/90 [==============================] - 0s 407us/step - loss: 0.3485 - acc: 1.0000 - val_loss: 0.3477 - val_acc: 1.0000\n",
      "Epoch 175/200\n",
      "90/90 [==============================] - 0s 446us/step - loss: 0.3477 - acc: 1.0000 - val_loss: 0.3469 - val_acc: 1.0000\n",
      "Epoch 176/200\n",
      "90/90 [==============================] - 0s 438us/step - loss: 0.3469 - acc: 1.0000 - val_loss: 0.3461 - val_acc: 1.0000\n",
      "Epoch 177/200\n",
      "90/90 [==============================] - 0s 460us/step - loss: 0.3461 - acc: 1.0000 - val_loss: 0.3453 - val_acc: 1.0000\n",
      "Epoch 178/200\n",
      "90/90 [==============================] - 0s 473us/step - loss: 0.3453 - acc: 1.0000 - val_loss: 0.3445 - val_acc: 1.0000\n",
      "Epoch 179/200\n",
      "90/90 [==============================] - 0s 502us/step - loss: 0.3445 - acc: 1.0000 - val_loss: 0.3437 - val_acc: 1.0000\n",
      "Epoch 180/200\n",
      "90/90 [==============================] - 0s 502us/step - loss: 0.3437 - acc: 1.0000 - val_loss: 0.3429 - val_acc: 1.0000\n",
      "Epoch 181/200\n",
      "90/90 [==============================] - 0s 471us/step - loss: 0.3429 - acc: 1.0000 - val_loss: 0.3421 - val_acc: 1.0000\n",
      "Epoch 182/200\n",
      "90/90 [==============================] - 0s 638us/step - loss: 0.3421 - acc: 1.0000 - val_loss: 0.3413 - val_acc: 1.0000\n",
      "Epoch 183/200\n",
      "90/90 [==============================] - 0s 459us/step - loss: 0.3413 - acc: 1.0000 - val_loss: 0.3406 - val_acc: 1.0000\n"
     ]
    },
    {
     "name": "stdout",
     "output_type": "stream",
     "text": [
      "Epoch 184/200\n",
      "90/90 [==============================] - 0s 499us/step - loss: 0.3406 - acc: 1.0000 - val_loss: 0.3398 - val_acc: 1.0000\n",
      "Epoch 185/200\n",
      "90/90 [==============================] - 0s 463us/step - loss: 0.3398 - acc: 1.0000 - val_loss: 0.3390 - val_acc: 1.0000\n",
      "Epoch 186/200\n",
      "90/90 [==============================] - 0s 514us/step - loss: 0.3390 - acc: 1.0000 - val_loss: 0.3383 - val_acc: 1.0000\n",
      "Epoch 187/200\n",
      "90/90 [==============================] - 0s 433us/step - loss: 0.3383 - acc: 1.0000 - val_loss: 0.3375 - val_acc: 1.0000\n",
      "Epoch 188/200\n",
      "90/90 [==============================] - 0s 523us/step - loss: 0.3375 - acc: 1.0000 - val_loss: 0.3367 - val_acc: 1.0000\n",
      "Epoch 189/200\n",
      "90/90 [==============================] - 0s 469us/step - loss: 0.3367 - acc: 1.0000 - val_loss: 0.3360 - val_acc: 1.0000\n",
      "Epoch 190/200\n",
      "90/90 [==============================] - 0s 446us/step - loss: 0.3360 - acc: 1.0000 - val_loss: 0.3353 - val_acc: 1.0000\n",
      "Epoch 191/200\n",
      "90/90 [==============================] - 0s 493us/step - loss: 0.3353 - acc: 1.0000 - val_loss: 0.3345 - val_acc: 1.0000\n",
      "Epoch 192/200\n",
      "90/90 [==============================] - 0s 457us/step - loss: 0.3345 - acc: 1.0000 - val_loss: 0.3338 - val_acc: 1.0000\n",
      "Epoch 193/200\n",
      "90/90 [==============================] - 0s 481us/step - loss: 0.3338 - acc: 1.0000 - val_loss: 0.3330 - val_acc: 1.0000\n",
      "Epoch 194/200\n",
      "90/90 [==============================] - 0s 497us/step - loss: 0.3330 - acc: 1.0000 - val_loss: 0.3323 - val_acc: 1.0000\n",
      "Epoch 195/200\n",
      "90/90 [==============================] - 0s 472us/step - loss: 0.3323 - acc: 1.0000 - val_loss: 0.3316 - val_acc: 1.0000\n",
      "Epoch 196/200\n",
      "90/90 [==============================] - 0s 488us/step - loss: 0.3316 - acc: 1.0000 - val_loss: 0.3308 - val_acc: 1.0000\n",
      "Epoch 197/200\n",
      "90/90 [==============================] - 0s 540us/step - loss: 0.3308 - acc: 1.0000 - val_loss: 0.3301 - val_acc: 1.0000\n",
      "Epoch 198/200\n",
      "90/90 [==============================] - 0s 472us/step - loss: 0.3301 - acc: 1.0000 - val_loss: 0.3294 - val_acc: 1.0000\n",
      "Epoch 199/200\n",
      "90/90 [==============================] - 0s 477us/step - loss: 0.3294 - acc: 1.0000 - val_loss: 0.3287 - val_acc: 1.0000\n",
      "Epoch 200/200\n",
      "90/90 [==============================] - 0s 509us/step - loss: 0.3287 - acc: 1.0000 - val_loss: 0.3280 - val_acc: 1.0000\n"
     ]
    }
   ],
   "source": [
    "x = np.array(images)\n",
    "x = x.reshape([-1,28,28,1])\n",
    "\n",
    "# 学習\n",
    "hist = model.fit(x, labels, batch_size=x.shape[0], \n",
    "                 epochs=200,\n",
    "                 validation_data=(x, labels))"
   ]
  },
  {
   "cell_type": "markdown",
   "metadata": {},
   "source": [
    "InvalidArgumentError トラブルシューティング\n",
    "\n",
    "https://stackoverflow.com/questions/39480314/tensorflow-invalidargumenterror-you-must-feed-a-value-for-placeholder-tensor-wi"
   ]
  },
  {
   "cell_type": "code",
   "execution_count": 18,
   "metadata": {},
   "outputs": [
    {
     "data": {
      "text/plain": [
       "[<keras.layers.convolutional.Conv2D at 0x181b0b0588>,\n",
       " <keras.layers.core.Lambda at 0x181b0b6d30>,\n",
       " <keras.layers.core.Activation at 0x181b0b6f98>,\n",
       " <keras.layers.pooling.MaxPooling2D at 0x181b0b6fd0>,\n",
       " <keras.layers.core.Flatten at 0x181b0b6e48>,\n",
       " <keras.layers.core.Dense at 0x181b0b0b00>,\n",
       " <keras.layers.core.Activation at 0x181b0b0828>,\n",
       " <keras.layers.core.Dense at 0x181b0ad5f8>,\n",
       " <keras.layers.core.Activation at 0x181b0adc50>]"
      ]
     },
     "execution_count": 18,
     "metadata": {},
     "output_type": "execute_result"
    }
   ],
   "source": [
    "model.layers"
   ]
  },
  {
   "cell_type": "code",
   "execution_count": 58,
   "metadata": {},
   "outputs": [
    {
     "data": {
      "text/plain": [
       "(5, 5, 1, 2)"
      ]
     },
     "execution_count": 58,
     "metadata": {},
     "output_type": "execute_result"
    }
   ],
   "source": [
    "filter_vals = model.get_layer('conv').get_weights()[0]\n",
    "filter_vals.shape"
   ]
  },
  {
   "cell_type": "code",
   "execution_count": 59,
   "metadata": {},
   "outputs": [
    {
     "data": {
      "text/plain": [
       "(90, 28, 28, 1)"
      ]
     },
     "execution_count": 59,
     "metadata": {},
     "output_type": "execute_result"
    }
   ],
   "source": [
    "x = np.array(images)\n",
    "x = x.reshape([-1,28,28,1])\n",
    "x.shape"
   ]
  },
  {
   "cell_type": "code",
   "execution_count": 60,
   "metadata": {},
   "outputs": [],
   "source": [
    "# 中間層の出力を得るためには新たなModel を作成\n",
    "layer_name = 'conv_cut_off'\n",
    "intermediate_layer_model = Model(inputs=model.input,\n",
    "                                 outputs=model.get_layer(layer_name).output) # 入力がinputで出力層は欲しい中間層のTensor\n",
    "conv_vals = intermediate_layer_model.predict(x[:9])"
   ]
  },
  {
   "cell_type": "code",
   "execution_count": 61,
   "metadata": {},
   "outputs": [
    {
     "data": {
      "text/plain": [
       "(9, 28, 28, 2)"
      ]
     },
     "execution_count": 61,
     "metadata": {},
     "output_type": "execute_result"
    }
   ],
   "source": [
    "conv_vals.shape"
   ]
  },
  {
   "cell_type": "code",
   "execution_count": 62,
   "metadata": {},
   "outputs": [
    {
     "data": {
      "image/png": "[encoded data removed]",
      "text/plain": [
       "<matplotlib.figure.Figure at 0x1a253372e8>"
      ]
     },
     "metadata": {},
     "output_type": "display_data"
    }
   ],
   "source": [
    "fig = plt.figure(figsize=(10,3))\n",
    "\n",
    "v_max = np.max(conv_vals)\n",
    "\n",
    "# フィルターを表示\n",
    "for i in range(2):\n",
    "    subplot = fig.add_subplot(3, 10, 10*(i+1)+1)\n",
    "    subplot.set_xticks([])\n",
    "    subplot.set_yticks([])\n",
    "    subplot.imshow(filter_vals[:,:,0,i],\n",
    "                   cmap=plt.cm.gray_r, interpolation='nearest')\n",
    "\n",
    "# 学習データとそれにフィルターを適用した後を表示\n",
    "for i in range(9):\n",
    "    subplot = fig.add_subplot(3, 10, i+2)\n",
    "    subplot.set_xticks([])\n",
    "    subplot.set_yticks([])\n",
    "    subplot.set_title('%d' % np.argmax(labels[i]))\n",
    "    # 学習データ\n",
    "    subplot.imshow(images[i].reshape((28,28)), vmin=0, vmax=1,\n",
    "                   cmap=plt.cm.gray_r, interpolation='nearest')\n",
    "    \n",
    "    # filter1を適用後\n",
    "    subplot = fig.add_subplot(3, 10, 10+i+2)\n",
    "    subplot.set_xticks([])\n",
    "    subplot.set_yticks([])\n",
    "    subplot.imshow(conv_vals[i,:,:,0], vmin=0, vmax=v_max,\n",
    "                   cmap=plt.cm.gray_r, interpolation='nearest')\n",
    "    \n",
    "    # filter2を適用後\n",
    "    subplot = fig.add_subplot(3, 10, 20+i+2)\n",
    "    subplot.set_xticks([])\n",
    "    subplot.set_yticks([])\n",
    "    subplot.imshow(conv_vals[i,:,:,1], vmin=0, vmax=v_max,\n",
    "                   cmap=plt.cm.gray_r, interpolation='nearest')"
   ]
  },
  {
   "cell_type": "code",
   "execution_count": 63,
   "metadata": {},
   "outputs": [],
   "source": [
    "# 中間層の出力を得るためには新たなModel を作成\n",
    "layer_name = 'pool'\n",
    "intermediate_layer_model = Model(inputs=model.input,\n",
    "                                 outputs=model.get_layer(layer_name).output) # 入力がinputで出力層は欲しい中間層のTensor\n",
    "pool_vals = intermediate_layer_model.predict(x[:9])"
   ]
  },
  {
   "cell_type": "code",
   "execution_count": 64,
   "metadata": {},
   "outputs": [
    {
     "data": {
      "image/png": "[encoded data removed]",
      "text/plain": [
       "<matplotlib.figure.Figure at 0x1818087320>"
      ]
     },
     "metadata": {},
     "output_type": "display_data"
    }
   ],
   "source": [
    "fig = plt.figure(figsize=(10,3))\n",
    "\n",
    "v_max = np.max(pool_vals)\n",
    "\n",
    "for i in range(2):\n",
    "    subplot = fig.add_subplot(3, 10, 10*(i+1)+1)\n",
    "    subplot.set_xticks([])\n",
    "    subplot.set_yticks([])\n",
    "    subplot.imshow(filter_vals[:,:,0,i],\n",
    "                   cmap=plt.cm.gray_r, interpolation='nearest')\n",
    "\n",
    "for i in range(9):\n",
    "    subplot = fig.add_subplot(3, 10, i+2)\n",
    "    subplot.set_xticks([])\n",
    "    subplot.set_yticks([])\n",
    "    subplot.set_title('%d' % np.argmax(labels[i]))\n",
    "    subplot.imshow(images[i].reshape((28,28)), vmin=0, vmax=1,\n",
    "                   cmap=plt.cm.gray_r, interpolation='nearest')\n",
    "    \n",
    "    subplot = fig.add_subplot(3, 10, 10+i+2)\n",
    "    subplot.set_xticks([])\n",
    "    subplot.set_yticks([])\n",
    "    subplot.imshow(pool_vals[i,:,:,0], vmin=0, vmax=v_max,\n",
    "                   cmap=plt.cm.gray_r, interpolation='nearest')\n",
    "    \n",
    "    subplot = fig.add_subplot(3, 10, 20+i+2)\n",
    "    subplot.set_xticks([])\n",
    "    subplot.set_yticks([])\n",
    "    subplot.imshow(pool_vals[i,:,:,1], vmin=0, vmax=v_max,\n",
    "                   cmap=plt.cm.gray_r, interpolation='nearest')"
   ]
  },
  {
   "cell_type": "code",
   "execution_count": null,
   "metadata": {},
   "outputs": [],
   "source": []
  }
 ],
 "metadata": {
  "kernelspec": {
   "display_name": "tensorflow",
   "language": "python",
   "name": "tensorflow"
  },
  "language_info": {
   "codemirror_mode": {
    "name": "ipython",
    "version": 3
   },
   "file_extension": ".py",
   "mimetype": "text/x-python",
   "name": "python",
   "nbconvert_exporter": "python",
   "pygments_lexer": "ipython3",
   "version": "3.5.4"
  },
  "toc": {
   "nav_menu": {},
   "number_sections": true,
   "sideBar": true,
   "skip_h1_title": false,
   "toc_cell": false,
   "toc_position": {},
   "toc_section_display": "block",
   "toc_window_display": false
  }
 },
 "nbformat": 4,
 "nbformat_minor": 1
}
